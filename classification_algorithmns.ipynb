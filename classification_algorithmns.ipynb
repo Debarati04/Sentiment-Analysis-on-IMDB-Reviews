{
 "cells": [
  {
   "cell_type": "code",
   "execution_count": 0,
   "metadata": {
    "ExecuteTime": {
     "end_time": "2019-12-12T05:05:03.936597Z",
     "start_time": "2019-12-12T05:05:01.027690Z"
    },
    "colab": {
     "base_uri": "https://localhost:8080/",
     "height": 79
    },
    "colab_type": "code",
    "id": "I9oJVHhCqCV9",
    "outputId": "f604a1f6-59fa-4447-ffcd-ac1dda64141f"
   },
   "outputs": [
    {
     "name": "stderr",
     "output_type": "stream",
     "text": [
      "Using TensorFlow backend.\n"
     ]
    }
   ],
   "source": [
    "import tensorflow as tf \n",
    "from tensorflow import keras\n",
    "import numpy as np\n",
    "from keras.datasets import imdb\n",
    "import matplotlib.pyplot as plt\n",
    "import pandas as pd"
   ]
  },
  {
   "cell_type": "code",
   "execution_count": 0,
   "metadata": {
    "ExecuteTime": {
     "end_time": "2019-12-12T04:26:31.072533Z",
     "start_time": "2019-12-12T04:26:30.504459Z"
    },
    "colab": {
     "base_uri": "https://localhost:8080/",
     "height": 360
    },
    "colab_type": "code",
    "id": "9uWEZxjVv7CM",
    "outputId": "a153f258-4d4d-4b82-fd44-f120623c026d"
   },
   "outputs": [
    {
     "name": "stdout",
     "output_type": "stream",
     "text": [
      "(50000, 2)\n"
     ]
    },
    {
     "data": {
      "text/html": [
       "<div>\n",
       "<style scoped>\n",
       "    .dataframe tbody tr th:only-of-type {\n",
       "        vertical-align: middle;\n",
       "    }\n",
       "\n",
       "    .dataframe tbody tr th {\n",
       "        vertical-align: top;\n",
       "    }\n",
       "\n",
       "    .dataframe thead th {\n",
       "        text-align: right;\n",
       "    }\n",
       "</style>\n",
       "<table border=\"1\" class=\"dataframe\">\n",
       "  <thead>\n",
       "    <tr style=\"text-align: right;\">\n",
       "      <th></th>\n",
       "      <th>review</th>\n",
       "      <th>sentiment</th>\n",
       "    </tr>\n",
       "  </thead>\n",
       "  <tbody>\n",
       "    <tr>\n",
       "      <th>0</th>\n",
       "      <td>One of the other reviewers has mentioned that ...</td>\n",
       "      <td>positive</td>\n",
       "    </tr>\n",
       "    <tr>\n",
       "      <th>1</th>\n",
       "      <td>A wonderful little production. &lt;br /&gt;&lt;br /&gt;The...</td>\n",
       "      <td>positive</td>\n",
       "    </tr>\n",
       "    <tr>\n",
       "      <th>2</th>\n",
       "      <td>I thought this was a wonderful way to spend ti...</td>\n",
       "      <td>positive</td>\n",
       "    </tr>\n",
       "    <tr>\n",
       "      <th>3</th>\n",
       "      <td>Basically there's a family where a little boy ...</td>\n",
       "      <td>negative</td>\n",
       "    </tr>\n",
       "    <tr>\n",
       "      <th>4</th>\n",
       "      <td>Petter Mattei's \"Love in the Time of Money\" is...</td>\n",
       "      <td>positive</td>\n",
       "    </tr>\n",
       "    <tr>\n",
       "      <th>5</th>\n",
       "      <td>Probably my all-time favorite movie, a story o...</td>\n",
       "      <td>positive</td>\n",
       "    </tr>\n",
       "    <tr>\n",
       "      <th>6</th>\n",
       "      <td>I sure would like to see a resurrection of a u...</td>\n",
       "      <td>positive</td>\n",
       "    </tr>\n",
       "    <tr>\n",
       "      <th>7</th>\n",
       "      <td>This show was an amazing, fresh &amp; innovative i...</td>\n",
       "      <td>negative</td>\n",
       "    </tr>\n",
       "    <tr>\n",
       "      <th>8</th>\n",
       "      <td>Encouraged by the positive comments about this...</td>\n",
       "      <td>negative</td>\n",
       "    </tr>\n",
       "    <tr>\n",
       "      <th>9</th>\n",
       "      <td>If you like original gut wrenching laughter yo...</td>\n",
       "      <td>positive</td>\n",
       "    </tr>\n",
       "  </tbody>\n",
       "</table>\n",
       "</div>"
      ],
      "text/plain": [
       "                                              review sentiment\n",
       "0  One of the other reviewers has mentioned that ...  positive\n",
       "1  A wonderful little production. <br /><br />The...  positive\n",
       "2  I thought this was a wonderful way to spend ti...  positive\n",
       "3  Basically there's a family where a little boy ...  negative\n",
       "4  Petter Mattei's \"Love in the Time of Money\" is...  positive\n",
       "5  Probably my all-time favorite movie, a story o...  positive\n",
       "6  I sure would like to see a resurrection of a u...  positive\n",
       "7  This show was an amazing, fresh & innovative i...  negative\n",
       "8  Encouraged by the positive comments about this...  negative\n",
       "9  If you like original gut wrenching laughter yo...  positive"
      ]
     },
     "execution_count": 2,
     "metadata": {
      "tags": []
     },
     "output_type": "execute_result"
    }
   ],
   "source": [
    "imdb_data = pd.read_csv('./IMDB Dataset.csv')\n",
    "print(imdb_data.shape)\n",
    "imdb_data.head(10)"
   ]
  },
  {
   "cell_type": "code",
   "execution_count": 0,
   "metadata": {
    "ExecuteTime": {
     "end_time": "2019-12-12T04:26:32.053650Z",
     "start_time": "2019-12-12T04:26:32.035320Z"
    },
    "colab": {
     "base_uri": "https://localhost:8080/",
     "height": 134
    },
    "colab_type": "code",
    "id": "4jEDPwXE3N4e",
    "outputId": "f932a434-6ff6-4ca3-a2ef-cabb72b7b8c1"
   },
   "outputs": [
    {
     "name": "stdout",
     "output_type": "stream",
     "text": [
      "<class 'pandas.core.frame.DataFrame'>\n",
      "RangeIndex: 50000 entries, 0 to 49999\n",
      "Data columns (total 2 columns):\n",
      "review       50000 non-null object\n",
      "sentiment    50000 non-null object\n",
      "dtypes: object(2)\n",
      "memory usage: 781.3+ KB\n"
     ]
    }
   ],
   "source": [
    "imdb_data.info()"
   ]
  },
  {
   "cell_type": "code",
   "execution_count": 0,
   "metadata": {
    "ExecuteTime": {
     "end_time": "2019-12-12T04:26:33.531885Z",
     "start_time": "2019-12-12T04:26:33.429041Z"
    },
    "colab": {
     "base_uri": "https://localhost:8080/",
     "height": 166
    },
    "colab_type": "code",
    "id": "IkKULL9a3-i7",
    "outputId": "2b231258-c5a0-4579-caa1-81d346ebffa5"
   },
   "outputs": [
    {
     "data": {
      "text/html": [
       "<div>\n",
       "<style scoped>\n",
       "    .dataframe tbody tr th:only-of-type {\n",
       "        vertical-align: middle;\n",
       "    }\n",
       "\n",
       "    .dataframe tbody tr th {\n",
       "        vertical-align: top;\n",
       "    }\n",
       "\n",
       "    .dataframe thead th {\n",
       "        text-align: right;\n",
       "    }\n",
       "</style>\n",
       "<table border=\"1\" class=\"dataframe\">\n",
       "  <thead>\n",
       "    <tr style=\"text-align: right;\">\n",
       "      <th></th>\n",
       "      <th>review</th>\n",
       "      <th>sentiment</th>\n",
       "    </tr>\n",
       "  </thead>\n",
       "  <tbody>\n",
       "    <tr>\n",
       "      <th>count</th>\n",
       "      <td>50000</td>\n",
       "      <td>50000</td>\n",
       "    </tr>\n",
       "    <tr>\n",
       "      <th>unique</th>\n",
       "      <td>49582</td>\n",
       "      <td>2</td>\n",
       "    </tr>\n",
       "    <tr>\n",
       "      <th>top</th>\n",
       "      <td>Loved today's show!!! It was a variety and not...</td>\n",
       "      <td>positive</td>\n",
       "    </tr>\n",
       "    <tr>\n",
       "      <th>freq</th>\n",
       "      <td>5</td>\n",
       "      <td>25000</td>\n",
       "    </tr>\n",
       "  </tbody>\n",
       "</table>\n",
       "</div>"
      ],
      "text/plain": [
       "                                                   review sentiment\n",
       "count                                               50000     50000\n",
       "unique                                              49582         2\n",
       "top     Loved today's show!!! It was a variety and not...  positive\n",
       "freq                                                    5     25000"
      ]
     },
     "execution_count": 4,
     "metadata": {
      "tags": []
     },
     "output_type": "execute_result"
    }
   ],
   "source": [
    "imdb_data.describe()"
   ]
  },
  {
   "cell_type": "markdown",
   "metadata": {
    "colab_type": "text",
    "id": "MPw6MxcZ4iu5"
   },
   "source": [
    "See the average number of words of each sample"
   ]
  },
  {
   "cell_type": "code",
   "execution_count": 0,
   "metadata": {
    "ExecuteTime": {
     "end_time": "2019-12-08T21:51:54.178660Z",
     "start_time": "2019-12-08T21:51:53.149472Z"
    },
    "colab": {
     "base_uri": "https://localhost:8080/",
     "height": 421
    },
    "colab_type": "code",
    "id": "MGgJzqtp4BKG",
    "outputId": "bd928b94-65c9-4454-a19f-692f2c8a0652"
   },
   "outputs": [
    {
     "data": {
      "text/plain": [
       "Text(0.5, 1.0, 'review length distribution')"
      ]
     },
     "execution_count": 5,
     "metadata": {
      "tags": []
     },
     "output_type": "execute_result"
    },
    {
     "data": {
      "image/png": "[encoded data removed]",
      "text/plain": [
       "<Figure size 720x432 with 1 Axes>"
      ]
     },
     "metadata": {
      "needs_background": "light",
      "tags": []
     },
     "output_type": "display_data"
    }
   ],
   "source": [
    "plt.figure(figsize=(10,6))\n",
    "plt.hist([len(sample.split()) for sample in list(imdb_data['review']) ], 50)\n",
    "plt.xlabel('number of words in review')\n",
    "plt.ylabel('number of samples')\n",
    "plt.title(\"review length distribution\")\n"
   ]
  },
  {
   "cell_type": "code",
   "execution_count": 0,
   "metadata": {
    "ExecuteTime": {
     "end_time": "2019-12-08T21:51:54.338941Z",
     "start_time": "2019-12-08T21:51:54.193010Z"
    },
    "colab": {
     "base_uri": "https://localhost:8080/",
     "height": 367
    },
    "colab_type": "code",
    "id": "XQJ30XUh46o7",
    "outputId": "7a714f2d-54cd-4ec9-d513-7ed6eeafc581"
   },
   "outputs": [
    {
     "data": {
      "text/plain": [
       "Text(0.5, 1.0, 'sentiment distribution')"
      ]
     },
     "execution_count": 6,
     "metadata": {
      "tags": []
     },
     "output_type": "execute_result"
    },
    {
     "data": {
      "image/png": "[encoded data removed]",
      "text/plain": [
       "<Figure size 360x360 with 1 Axes>"
      ]
     },
     "metadata": {
      "needs_background": "light",
      "tags": []
     },
     "output_type": "display_data"
    }
   ],
   "source": [
    "plt.figure(figsize=(5,5))\n",
    "plt.hist([list(imdb_data['sentiment']) ], 5)\n",
    "plt.xlabel('labels')\n",
    "plt.ylabel('number of labels')\n",
    "plt.title(\"sentiment distribution\")"
   ]
  },
  {
   "cell_type": "code",
   "execution_count": 0,
   "metadata": {
    "ExecuteTime": {
     "end_time": "2019-12-08T21:53:53.654623Z",
     "start_time": "2019-12-08T21:53:48.748421Z"
    },
    "colab": {
     "base_uri": "https://localhost:8080/",
     "height": 229
    },
    "colab_type": "code",
    "id": "xGfRwGWaLxRj",
    "outputId": "b4e9da5a-b826-41bd-b2c3-4c0c83d106b6"
   },
   "outputs": [
    {
     "data": {
      "image/png": "[encoded data removed]",
      "text/plain": [
       "<Figure size 2880x1440 with 1 Axes>"
      ]
     },
     "metadata": {
      "needs_background": "light",
      "tags": []
     },
     "output_type": "display_data"
    }
   ],
   "source": [
    "dict_w = {}\n",
    "for line in imdb_data['review']:\n",
    "    for word in line.split():\n",
    "        if word in dict_w:\n",
    "            dict_w[word] += 1\n",
    "        else:\n",
    "            dict_w[word] = 1\n",
    "lists = sorted(dict_w.items(), key=lambda kv: kv[1], reverse=True) # sorted by value, return a list of tuples\n",
    "x, y = zip(*lists[:30]) # unpack a list of pairs into two tuples, choose top 30\n",
    "plt.figure(figsize=(40,20))\n",
    "plt.bar(x, y)\n",
    "plt.tick_params(axis='both', labelsize=25)\n",
    "plt.title('top 30 frequence of words', size=40)\n",
    "plt.show()\n"
   ]
  },
  {
   "cell_type": "markdown",
   "metadata": {
    "colab_type": "text",
    "id": "d3kQsmX0M2bp"
   },
   "source": [
    "Preliminary Preprocessing and Algorithms"
   ]
  },
  {
   "cell_type": "code",
   "execution_count": 0,
   "metadata": {
    "ExecuteTime": {
     "end_time": "2019-12-12T05:05:33.921705Z",
     "start_time": "2019-12-12T05:05:33.069080Z"
    },
    "colab": {
     "base_uri": "https://localhost:8080/",
     "height": 360
    },
    "colab_type": "code",
    "id": "QR87xoWY77sQ",
    "outputId": "50010b04-57f3-439c-a5a5-b66744e0df91"
   },
   "outputs": [
    {
     "name": "stdout",
     "output_type": "stream",
     "text": [
      "(50000, 3)\n"
     ]
    },
    {
     "data": {
      "text/html": [
       "<div>\n",
       "<style scoped>\n",
       "    .dataframe tbody tr th:only-of-type {\n",
       "        vertical-align: middle;\n",
       "    }\n",
       "\n",
       "    .dataframe tbody tr th {\n",
       "        vertical-align: top;\n",
       "    }\n",
       "\n",
       "    .dataframe thead th {\n",
       "        text-align: right;\n",
       "    }\n",
       "</style>\n",
       "<table border=\"1\" class=\"dataframe\">\n",
       "  <thead>\n",
       "    <tr style=\"text-align: right;\">\n",
       "      <th></th>\n",
       "      <th>review</th>\n",
       "      <th>sentiment</th>\n",
       "      <th>cleaned_review</th>\n",
       "    </tr>\n",
       "  </thead>\n",
       "  <tbody>\n",
       "    <tr>\n",
       "      <th>0</th>\n",
       "      <td>One of the other reviewers has mentioned that ...</td>\n",
       "      <td>positive</td>\n",
       "      <td>One of the other reviewers has mentioned that ...</td>\n",
       "    </tr>\n",
       "    <tr>\n",
       "      <th>1</th>\n",
       "      <td>A wonderful little production. &lt;br /&gt;&lt;br /&gt;The...</td>\n",
       "      <td>positive</td>\n",
       "      <td>A wonderful little production.   The filming t...</td>\n",
       "    </tr>\n",
       "    <tr>\n",
       "      <th>2</th>\n",
       "      <td>I thought this was a wonderful way to spend ti...</td>\n",
       "      <td>positive</td>\n",
       "      <td>I thought this was a wonderful way to spend ti...</td>\n",
       "    </tr>\n",
       "    <tr>\n",
       "      <th>3</th>\n",
       "      <td>Basically there's a family where a little boy ...</td>\n",
       "      <td>negative</td>\n",
       "      <td>Basically there's a family where a little boy ...</td>\n",
       "    </tr>\n",
       "    <tr>\n",
       "      <th>4</th>\n",
       "      <td>Petter Mattei's \"Love in the Time of Money\" is...</td>\n",
       "      <td>positive</td>\n",
       "      <td>Petter Mattei's Love in the Time of Money is a...</td>\n",
       "    </tr>\n",
       "    <tr>\n",
       "      <th>5</th>\n",
       "      <td>Probably my all-time favorite movie, a story o...</td>\n",
       "      <td>positive</td>\n",
       "      <td>Probably my all-time favorite movie, a story o...</td>\n",
       "    </tr>\n",
       "    <tr>\n",
       "      <th>6</th>\n",
       "      <td>I sure would like to see a resurrection of a u...</td>\n",
       "      <td>positive</td>\n",
       "      <td>I sure would like to see a resurrection of a u...</td>\n",
       "    </tr>\n",
       "    <tr>\n",
       "      <th>7</th>\n",
       "      <td>This show was an amazing, fresh &amp; innovative i...</td>\n",
       "      <td>negative</td>\n",
       "      <td>This show was an amazing, fresh &amp; innovative i...</td>\n",
       "    </tr>\n",
       "    <tr>\n",
       "      <th>8</th>\n",
       "      <td>Encouraged by the positive comments about this...</td>\n",
       "      <td>negative</td>\n",
       "      <td>Encouraged by the positive comments about this...</td>\n",
       "    </tr>\n",
       "    <tr>\n",
       "      <th>9</th>\n",
       "      <td>If you like original gut wrenching laughter yo...</td>\n",
       "      <td>positive</td>\n",
       "      <td>If you like original gut wrenching laughter yo...</td>\n",
       "    </tr>\n",
       "  </tbody>\n",
       "</table>\n",
       "</div>"
      ],
      "text/plain": [
       "                                              review sentiment  \\\n",
       "0  One of the other reviewers has mentioned that ...  positive   \n",
       "1  A wonderful little production. <br /><br />The...  positive   \n",
       "2  I thought this was a wonderful way to spend ti...  positive   \n",
       "3  Basically there's a family where a little boy ...  negative   \n",
       "4  Petter Mattei's \"Love in the Time of Money\" is...  positive   \n",
       "5  Probably my all-time favorite movie, a story o...  positive   \n",
       "6  I sure would like to see a resurrection of a u...  positive   \n",
       "7  This show was an amazing, fresh & innovative i...  negative   \n",
       "8  Encouraged by the positive comments about this...  negative   \n",
       "9  If you like original gut wrenching laughter yo...  positive   \n",
       "\n",
       "                                      cleaned_review  \n",
       "0  One of the other reviewers has mentioned that ...  \n",
       "1  A wonderful little production.   The filming t...  \n",
       "2  I thought this was a wonderful way to spend ti...  \n",
       "3  Basically there's a family where a little boy ...  \n",
       "4  Petter Mattei's Love in the Time of Money is a...  \n",
       "5  Probably my all-time favorite movie, a story o...  \n",
       "6  I sure would like to see a resurrection of a u...  \n",
       "7  This show was an amazing, fresh & innovative i...  \n",
       "8  Encouraged by the positive comments about this...  \n",
       "9  If you like original gut wrenching laughter yo...  "
      ]
     },
     "execution_count": 4,
     "metadata": {
      "tags": []
     },
     "output_type": "execute_result"
    }
   ],
   "source": [
    "import re\n",
    "import pandas as pd\n",
    "import numpy as np\n",
    "from sklearn.naive_bayes import MultinomialNB\n",
    "from nltk.tokenize import WordPunctTokenizer\n",
    "from nltk.stem import PorterStemmer \n",
    "from nltk.tokenize import word_tokenize\n",
    "from nltk.corpus import stopwords \n",
    "from nltk.tokenize import word_tokenize \n",
    "import nltk\n",
    "import string\n",
    "from nltk.stem.snowball import SnowballStemmer\n",
    "\n",
    "imdb_data = pd.read_csv('./IMDB Dataset.csv')\n",
    "\n",
    "def clean_review(text):\n",
    "    text = re.sub('<[^<]+?>', ' ', text)\n",
    "    text = text.replace('\\\\\"', '')\n",
    "    text = text.replace('\"', '')\n",
    "    return text\n",
    "\n",
    "imdb_data['cleaned_review'] = imdb_data['review'].apply(clean_review)\n",
    "print(imdb_data.shape)\n",
    "imdb_data.head(10)\n",
    "\n"
   ]
  },
  {
   "cell_type": "code",
   "execution_count": 0,
   "metadata": {
    "ExecuteTime": {
     "end_time": "2019-12-12T05:05:36.053631Z",
     "start_time": "2019-12-12T05:05:33.947293Z"
    },
    "colab": {
     "base_uri": "https://localhost:8080/",
     "height": 50
    },
    "colab_type": "code",
    "id": "vhV3wnSTM-l0",
    "outputId": "31b8435b-6da1-4920-e08c-71ff3ed01856"
   },
   "outputs": [
    {
     "name": "stderr",
     "output_type": "stream",
     "text": [
      "[nltk_data] Downloading package stopwords to\n",
      "[nltk_data]     /Users/qianqu/nltk_data...\n",
      "[nltk_data]   Package stopwords is already up-to-date!\n"
     ]
    }
   ],
   "source": [
    "nltk.download('stopwords')\n",
    "from nltk.corpus import stopwords \n",
    "stop_words = stopwords\n",
    "def clean_review(text):\n",
    "    text = re.sub('<[^<]+?>', ' ', text)\n",
    "    text = text.replace('\\\\\"', '')\n",
    "    text = text.replace('\"', '')\n",
    "    return text\n",
    "\n",
    "def remove_stop_words(text):\n",
    "  res = text.split(' ')\n",
    "  final_res = []\n",
    "  stop_words = set(stopwords.words('english'))\n",
    "  for word in res:\n",
    "    if word in stop_words:\n",
    "      continue\n",
    "    else:\n",
    "      final_res.append(word)\n",
    "  return \" \".join(final_res)\n"
   ]
  },
  {
   "cell_type": "code",
   "execution_count": 0,
   "metadata": {
    "ExecuteTime": {
     "end_time": "2019-12-12T05:05:36.085175Z",
     "start_time": "2019-12-12T05:05:36.080181Z"
    },
    "colab": {},
    "colab_type": "code",
    "id": "oXR2mxxsJayw"
   },
   "outputs": [],
   "source": [
    "import re\n",
    "import pandas as pd\n",
    "import numpy as np\n",
    "from sklearn.naive_bayes import MultinomialNB\n",
    "from nltk.tokenize import WordPunctTokenizer\n",
    "from nltk.stem import PorterStemmer \n",
    "from nltk.tokenize import word_tokenize\n",
    "from nltk.corpus import stopwords \n",
    "from nltk.tokenize import word_tokenize \n",
    "import nltk\n",
    "import string\n",
    "from nltk.stem.snowball import SnowballStemmer\n",
    "from sklearn.preprocessing import LabelBinarizer\n",
    "from sklearn.feature_extraction.text import CountVectorizer\n",
    "from sklearn.feature_extraction.text import TfidfVectorizer\n",
    "from sklearn.neural_network import MLPClassifier\n",
    "from sklearn.model_selection import train_test_split\n",
    "from sklearn.linear_model import LogisticRegression\n",
    "from sklearn.metrics import accuracy_score\n",
    "from sklearn.metrics import precision_score\n",
    "from sklearn.metrics import recall_score\n",
    "from sklearn.metrics import f1_score\n",
    "from sklearn.metrics import roc_auc_score\n",
    "\n",
    "\n",
    "\n"
   ]
  },
  {
   "cell_type": "code",
   "execution_count": 0,
   "metadata": {
    "ExecuteTime": {
     "end_time": "2019-12-12T05:05:46.268281Z",
     "start_time": "2019-12-12T05:05:36.113938Z"
    },
    "colab": {},
    "colab_type": "code",
    "id": "gQjfYx8nhpvg",
    "outputId": "04df1257-8f41-444e-e0fb-4ff635b2599c"
   },
   "outputs": [
    {
     "name": "stdout",
     "output_type": "stream",
     "text": [
      "(50000, 3)\n"
     ]
    },
    {
     "data": {
      "text/html": [
       "<div>\n",
       "<style scoped>\n",
       "    .dataframe tbody tr th:only-of-type {\n",
       "        vertical-align: middle;\n",
       "    }\n",
       "\n",
       "    .dataframe tbody tr th {\n",
       "        vertical-align: top;\n",
       "    }\n",
       "\n",
       "    .dataframe thead th {\n",
       "        text-align: right;\n",
       "    }\n",
       "</style>\n",
       "<table border=\"1\" class=\"dataframe\">\n",
       "  <thead>\n",
       "    <tr style=\"text-align: right;\">\n",
       "      <th></th>\n",
       "      <th>review</th>\n",
       "      <th>sentiment</th>\n",
       "      <th>cleaned_review</th>\n",
       "    </tr>\n",
       "  </thead>\n",
       "  <tbody>\n",
       "    <tr>\n",
       "      <th>0</th>\n",
       "      <td>One of the other reviewers has mentioned that ...</td>\n",
       "      <td>positive</td>\n",
       "      <td>One reviewers mentioned watching 1 Oz episode ...</td>\n",
       "    </tr>\n",
       "    <tr>\n",
       "      <th>1</th>\n",
       "      <td>A wonderful little production. &lt;br /&gt;&lt;br /&gt;The...</td>\n",
       "      <td>positive</td>\n",
       "      <td>A wonderful little production.   The filming t...</td>\n",
       "    </tr>\n",
       "    <tr>\n",
       "      <th>2</th>\n",
       "      <td>I thought this was a wonderful way to spend ti...</td>\n",
       "      <td>positive</td>\n",
       "      <td>I thought wonderful way spend time hot summer ...</td>\n",
       "    </tr>\n",
       "    <tr>\n",
       "      <th>3</th>\n",
       "      <td>Basically there's a family where a little boy ...</td>\n",
       "      <td>negative</td>\n",
       "      <td>Basically there's family little boy (Jake) thi...</td>\n",
       "    </tr>\n",
       "    <tr>\n",
       "      <th>4</th>\n",
       "      <td>Petter Mattei's \"Love in the Time of Money\" is...</td>\n",
       "      <td>positive</td>\n",
       "      <td>Petter Mattei's Love Time Money visually stunn...</td>\n",
       "    </tr>\n",
       "    <tr>\n",
       "      <th>5</th>\n",
       "      <td>Probably my all-time favorite movie, a story o...</td>\n",
       "      <td>positive</td>\n",
       "      <td>Probably all-time favorite movie, story selfle...</td>\n",
       "    </tr>\n",
       "    <tr>\n",
       "      <th>6</th>\n",
       "      <td>I sure would like to see a resurrection of a u...</td>\n",
       "      <td>positive</td>\n",
       "      <td>I sure would like see resurrection dated Seahu...</td>\n",
       "    </tr>\n",
       "    <tr>\n",
       "      <th>7</th>\n",
       "      <td>This show was an amazing, fresh &amp; innovative i...</td>\n",
       "      <td>negative</td>\n",
       "      <td>This show amazing, fresh &amp; innovative idea 70'...</td>\n",
       "    </tr>\n",
       "    <tr>\n",
       "      <th>8</th>\n",
       "      <td>Encouraged by the positive comments about this...</td>\n",
       "      <td>negative</td>\n",
       "      <td>Encouraged positive comments film I looking fo...</td>\n",
       "    </tr>\n",
       "    <tr>\n",
       "      <th>9</th>\n",
       "      <td>If you like original gut wrenching laughter yo...</td>\n",
       "      <td>positive</td>\n",
       "      <td>If like original gut wrenching laughter like m...</td>\n",
       "    </tr>\n",
       "  </tbody>\n",
       "</table>\n",
       "</div>"
      ],
      "text/plain": [
       "                                              review sentiment  \\\n",
       "0  One of the other reviewers has mentioned that ...  positive   \n",
       "1  A wonderful little production. <br /><br />The...  positive   \n",
       "2  I thought this was a wonderful way to spend ti...  positive   \n",
       "3  Basically there's a family where a little boy ...  negative   \n",
       "4  Petter Mattei's \"Love in the Time of Money\" is...  positive   \n",
       "5  Probably my all-time favorite movie, a story o...  positive   \n",
       "6  I sure would like to see a resurrection of a u...  positive   \n",
       "7  This show was an amazing, fresh & innovative i...  negative   \n",
       "8  Encouraged by the positive comments about this...  negative   \n",
       "9  If you like original gut wrenching laughter yo...  positive   \n",
       "\n",
       "                                      cleaned_review  \n",
       "0  One reviewers mentioned watching 1 Oz episode ...  \n",
       "1  A wonderful little production.   The filming t...  \n",
       "2  I thought wonderful way spend time hot summer ...  \n",
       "3  Basically there's family little boy (Jake) thi...  \n",
       "4  Petter Mattei's Love Time Money visually stunn...  \n",
       "5  Probably all-time favorite movie, story selfle...  \n",
       "6  I sure would like see resurrection dated Seahu...  \n",
       "7  This show amazing, fresh & innovative idea 70'...  \n",
       "8  Encouraged positive comments film I looking fo...  \n",
       "9  If like original gut wrenching laughter like m...  "
      ]
     },
     "execution_count": 7,
     "metadata": {
      "tags": []
     },
     "output_type": "execute_result"
    }
   ],
   "source": [
    "imdb_data = pd.read_csv('./IMDB Dataset.csv')\n",
    "imdb_data['cleaned_review'] = imdb_data['review'].apply(clean_review)\n",
    "imdb_data['cleaned_review'] = imdb_data['cleaned_review'].apply(remove_stop_words)\n",
    "print(imdb_data.shape)\n",
    "imdb_data.head(10)"
   ]
  },
  {
   "cell_type": "markdown",
   "metadata": {
    "colab_type": "text",
    "id": "Sd44nJrKSYLk"
   },
   "source": [
    "# Preprocessing"
   ]
  },
  {
   "cell_type": "markdown",
   "metadata": {
    "colab_type": "text",
    "id": "0T-eT704hpvj"
   },
   "source": [
    "split to train and test"
   ]
  },
  {
   "cell_type": "code",
   "execution_count": 0,
   "metadata": {
    "ExecuteTime": {
     "end_time": "2019-12-12T05:05:49.118300Z",
     "start_time": "2019-12-12T05:05:49.000348Z"
    },
    "colab": {},
    "colab_type": "code",
    "id": "Md16fBmwhpvk",
    "outputId": "c6c3ce39-e522-4f3e-c912-8d6e0ae3e08c"
   },
   "outputs": [
    {
     "name": "stdout",
     "output_type": "stream",
     "text": [
      "(50000, 1)\n"
     ]
    }
   ],
   "source": [
    "#labeling the sentient data\n",
    "lb=LabelBinarizer()\n",
    "#transformed sentiment data\n",
    "sentiment_label=lb.fit_transform(imdb_data['sentiment'])\n",
    "print(sentiment_label.shape)\n",
    "\n",
    "X_org_train, X_org_test, y_train, y_test = train_test_split(imdb_data['cleaned_review'], sentiment_label, test_size=0.2)"
   ]
  },
  {
   "cell_type": "code",
   "execution_count": 0,
   "metadata": {
    "ExecuteTime": {
     "end_time": "2019-12-12T05:05:49.615429Z",
     "start_time": "2019-12-12T05:05:49.611340Z"
    },
    "colab": {},
    "colab_type": "code",
    "id": "ITBfAxM9hpvn",
    "outputId": "468cb29b-40c1-414a-ea72-5c9ab769c1e0"
   },
   "outputs": [
    {
     "data": {
      "text/plain": [
       "(40000,)"
      ]
     },
     "execution_count": 9,
     "metadata": {
      "tags": []
     },
     "output_type": "execute_result"
    }
   ],
   "source": [
    "X_org_train.shape"
   ]
  },
  {
   "cell_type": "code",
   "execution_count": 0,
   "metadata": {
    "ExecuteTime": {
     "end_time": "2019-12-12T05:05:51.576614Z",
     "start_time": "2019-12-12T05:05:51.572641Z"
    },
    "colab": {},
    "colab_type": "code",
    "id": "pj8Nx3KVhpvp"
   },
   "outputs": [],
   "source": [
    "def print_metrics(pred, label):\n",
    "    print(\"accracy: \", accuracy_score(label, pred))\n",
    "    print(\"precision: \", precision_score(label, pred))\n",
    "    print(\"recal: \", recall_score(label, pred))\n",
    "    print(\"f1_score: \", f1_score(label, pred))\n",
    "    print(\"AUC: \", roc_auc_score(label, pred))"
   ]
  },
  {
   "cell_type": "markdown",
   "metadata": {
    "colab_type": "text",
    "id": "awGYA0fVhpvs"
   },
   "source": [
    "## BOW"
   ]
  },
  {
   "cell_type": "code",
   "execution_count": 0,
   "metadata": {
    "ExecuteTime": {
     "end_time": "2019-12-12T04:27:22.527568Z",
     "start_time": "2019-12-12T04:27:13.260745Z"
    },
    "colab": {},
    "colab_type": "code",
    "id": "rM43oRLVLuv7"
   },
   "outputs": [],
   "source": [
    "vectorizer = CountVectorizer(lowercase=True)\n",
    "vectorizer.fit(X_org_train)\n",
    "X_train = vectorizer.transform(X_org_train)\n",
    "X_test = vectorizer.transform(X_org_test)"
   ]
  },
  {
   "cell_type": "code",
   "execution_count": 0,
   "metadata": {
    "ExecuteTime": {
     "end_time": "2019-12-12T04:27:23.262104Z",
     "start_time": "2019-12-12T04:27:23.258169Z"
    },
    "colab": {},
    "colab_type": "code",
    "id": "3pw8qDl2hpvu",
    "outputId": "9980f20e-6f1b-4e70-f122-ba10a1f57a1a"
   },
   "outputs": [
    {
     "data": {
      "text/plain": [
       "(40000, 92911)"
      ]
     },
     "execution_count": 13,
     "metadata": {
      "tags": []
     },
     "output_type": "execute_result"
    }
   ],
   "source": [
    "X_train.shape"
   ]
  },
  {
   "cell_type": "markdown",
   "metadata": {
    "colab_type": "text",
    "id": "FWVdusmbSfFm"
   },
   "source": [
    "### Logistic Regression"
   ]
  },
  {
   "cell_type": "code",
   "execution_count": 0,
   "metadata": {
    "ExecuteTime": {
     "end_time": "2019-12-12T04:27:27.721263Z",
     "start_time": "2019-12-12T04:27:24.803896Z"
    },
    "colab": {
     "base_uri": "https://localhost:8080/",
     "height": 87
    },
    "colab_type": "code",
    "id": "LHXNkuIASfgy",
    "outputId": "a62fde0f-7cdf-4b81-bd2f-eed67a3af983"
   },
   "outputs": [
    {
     "name": "stderr",
     "output_type": "stream",
     "text": [
      "/Users/qianqu/anaconda3/lib/python3.6/site-packages/sklearn/linear_model/logistic.py:433: FutureWarning: Default solver will be changed to 'lbfgs' in 0.22. Specify a solver to silence this warning.\n",
      "  FutureWarning)\n",
      "/Users/qianqu/anaconda3/lib/python3.6/site-packages/sklearn/utils/validation.py:761: DataConversionWarning: A column-vector y was passed when a 1d array was expected. Please change the shape of y to (n_samples, ), for example using ravel().\n",
      "  y = column_or_1d(y, warn=True)\n"
     ]
    },
    {
     "name": "stdout",
     "output_type": "stream",
     "text": [
      "accracy:  0.8916\n",
      "precision:  0.8851684065392948\n",
      "recal:  0.8996996996996997\n",
      "f1_score:  0.892374900714853\n",
      "AUC:  0.8916080916080915\n"
     ]
    }
   ],
   "source": [
    "lr = LogisticRegression(C=0.1)\n",
    "lr.fit(X_train, y_train)\n",
    "lr_pred = lr.predict(X_test)\n",
    "#lr_pred\n",
    "#print(accuracy_score(y_test, lr.predict(X_test)))\n",
    "print_metrics(lr_pred, y_test)"
   ]
  },
  {
   "cell_type": "markdown",
   "metadata": {
    "colab_type": "text",
    "id": "fPd2ipaBSjKE"
   },
   "source": [
    "### Random Forest"
   ]
  },
  {
   "cell_type": "code",
   "execution_count": 0,
   "metadata": {
    "ExecuteTime": {
     "end_time": "2019-12-12T04:27:45.785108Z",
     "start_time": "2019-12-12T04:27:33.638131Z"
    },
    "colab": {
     "base_uri": "https://localhost:8080/",
     "height": 34
    },
    "colab_type": "code",
    "id": "s3w3lKTfSiSY",
    "outputId": "82d261ad-6324-42f2-e860-e788a4a1c079"
   },
   "outputs": [
    {
     "name": "stderr",
     "output_type": "stream",
     "text": [
      "/Users/qianqu/anaconda3/lib/python3.6/site-packages/ipykernel_launcher.py:5: DataConversionWarning: A column-vector y was passed when a 1d array was expected. Please change the shape of y to (n_samples,), for example using ravel().\n",
      "  \"\"\"\n"
     ]
    },
    {
     "name": "stdout",
     "output_type": "stream",
     "text": [
      "accracy:  0.8293\n",
      "precision:  0.8435018804847472\n",
      "recal:  0.8082082082082082\n",
      "f1_score:  0.825477967487987\n",
      "AUC:  0.8292789292789292\n"
     ]
    }
   ],
   "source": [
    "from sklearn.ensemble import RandomForestClassifier\n",
    "from sklearn.datasets import make_classification\n",
    "clf_forest = RandomForestClassifier(n_estimators=500, oob_score=False,max_depth=50)\n",
    "clf_forest.set_params(max_features=5)\n",
    "clf_forest= clf_forest.fit(X_train, y_train)\n",
    "clf_forest_pred = clf_forest.predict(X_test)\n",
    "#print(accuracy_score(y_test,clf_forest.predict(X_test)))\n",
    "print_metrics(clf_forest_pred, y_test)"
   ]
  },
  {
   "cell_type": "markdown",
   "metadata": {
    "colab_type": "text",
    "id": "_pEOa3ZlSsP3"
   },
   "source": [
    "### Naive Bayes"
   ]
  },
  {
   "cell_type": "code",
   "execution_count": 0,
   "metadata": {
    "ExecuteTime": {
     "end_time": "2019-12-12T04:27:47.318905Z",
     "start_time": "2019-12-12T04:27:47.250162Z"
    },
    "colab": {
     "base_uri": "https://localhost:8080/",
     "height": 34
    },
    "colab_type": "code",
    "id": "Tw2iN0RrSsnk",
    "outputId": "3208f7c2-bd24-4621-acc9-cd9bfebaa869"
   },
   "outputs": [
    {
     "name": "stdout",
     "output_type": "stream",
     "text": [
      "accracy:  0.858\n",
      "precision:  0.8768711785789585\n",
      "recal:  0.8326326326326327\n",
      "f1_score:  0.8541795029780244\n",
      "AUC:  0.857974657974658\n"
     ]
    },
    {
     "name": "stderr",
     "output_type": "stream",
     "text": [
      "/Users/qianqu/anaconda3/lib/python3.6/site-packages/sklearn/utils/validation.py:761: DataConversionWarning: A column-vector y was passed when a 1d array was expected. Please change the shape of y to (n_samples, ), for example using ravel().\n",
      "  y = column_or_1d(y, warn=True)\n"
     ]
    }
   ],
   "source": [
    "clf_NB = MultinomialNB()\n",
    "clf_NB.fit(X_train,y_train)\n",
    "clf_NB_pred = clf_NB.predict(X_test)\n",
    "#print(accuracy_score(clf.predict(X_test),y_test))\n",
    "print_metrics(clf_NB_pred, y_test)"
   ]
  },
  {
   "cell_type": "markdown",
   "metadata": {
    "colab_type": "text",
    "id": "hkc3z_cKStQe"
   },
   "source": [
    "### KNN"
   ]
  },
  {
   "cell_type": "code",
   "execution_count": 0,
   "metadata": {
    "ExecuteTime": {
     "end_time": "2019-12-12T04:28:18.276798Z",
     "start_time": "2019-12-12T04:27:49.122532Z"
    },
    "colab": {
     "base_uri": "https://localhost:8080/",
     "height": 34
    },
    "colab_type": "code",
    "id": "OLq1IYYTStqf",
    "outputId": "9384f151-b606-4b97-b6d4-b8e51291cf3d"
   },
   "outputs": [
    {
     "name": "stderr",
     "output_type": "stream",
     "text": [
      "/Users/qianqu/anaconda3/lib/python3.6/site-packages/ipykernel_launcher.py:3: DataConversionWarning: A column-vector y was passed when a 1d array was expected. Please change the shape of y to (n_samples, ), for example using ravel().\n",
      "  This is separate from the ipykernel package so we can avoid doing imports until\n"
     ]
    },
    {
     "name": "stdout",
     "output_type": "stream",
     "text": [
      "accracy:  0.7244\n",
      "precision:  0.7180985778297292\n",
      "recal:  0.7379379379379379\n",
      "f1_score:  0.7278830963665086\n",
      "AUC:  0.7244135244135245\n"
     ]
    }
   ],
   "source": [
    "from sklearn.neighbors import KNeighborsClassifier\n",
    "neigh = KNeighborsClassifier(n_neighbors=100)\n",
    "neigh.fit(X_train,y_train)\n",
    "neigh_pred = neigh.predict(X_test)\n",
    "#print(accuracy_score(neigh.predict(X_test),y_test))\n",
    "print_metrics(neigh_pred, y_test)"
   ]
  },
  {
   "cell_type": "markdown",
   "metadata": {
    "colab_type": "text",
    "id": "97bYCj1uS_oa"
   },
   "source": [
    "### Word Cloud"
   ]
  },
  {
   "cell_type": "code",
   "execution_count": 0,
   "metadata": {
    "ExecuteTime": {
     "end_time": "2019-12-12T04:28:54.292324Z",
     "start_time": "2019-12-12T04:28:18.421587Z"
    },
    "colab": {
     "base_uri": "https://localhost:8080/",
     "height": 575
    },
    "colab_type": "code",
    "id": "B_3HTvhFTADq",
    "outputId": "25ca6b9c-2b13-48d4-cf97-bfccfddf6266",
    "scrolled": true
   },
   "outputs": [
    {
     "data": {
      "image/png": "[encoded data removed]",
      "text/plain": [
       "<Figure size 1080x720 with 1 Axes>"
      ]
     },
     "metadata": {
      "needs_background": "light",
      "tags": []
     },
     "output_type": "display_data"
    }
   ],
   "source": [
    "from wordcloud import WordCloud, STOPWORDS\n",
    "import matplotlib.pyplot as plt\n",
    "import seaborn as sns\n",
    "from scipy import stats\n",
    "def cloud(data,backgroundcolor = 'white', width = 800, height = 600):\n",
    "    wordcloud = WordCloud(stopwords = STOPWORDS, background_color = backgroundcolor,\n",
    "                         width = width, height = height).generate(data)\n",
    "    plt.figure(figsize = (15, 10))\n",
    "    plt.imshow(wordcloud)\n",
    "    plt.axis(\"off\")\n",
    "    plt.show()\n",
    "\n",
    "cloud(' '.join(imdb_data['cleaned_review']))\n"
   ]
  },
  {
   "cell_type": "code",
   "execution_count": 0,
   "metadata": {
    "colab": {},
    "colab_type": "code",
    "id": "7WEcXQfFhpwB"
   },
   "outputs": [],
   "source": []
  },
  {
   "cell_type": "markdown",
   "metadata": {
    "colab_type": "text",
    "id": "zwfGoCUghpwD"
   },
   "source": [
    "## Lexicon based"
   ]
  },
  {
   "cell_type": "markdown",
   "metadata": {
    "colab_type": "text",
    "id": "jrf_JCiChpwD"
   },
   "source": [
    "### tokenizer and get lexicon feature"
   ]
  },
  {
   "cell_type": "code",
   "execution_count": 0,
   "metadata": {
    "ExecuteTime": {
     "end_time": "2019-12-12T05:06:09.355151Z",
     "start_time": "2019-12-12T05:05:59.161663Z"
    },
    "colab": {},
    "colab_type": "code",
    "id": "CNp258KNhpwE"
   },
   "outputs": [],
   "source": [
    "from tensorflow.python.keras.preprocessing.text import Tokenizer\n",
    "from tensorflow.python.keras.preprocessing.sequence import pad_sequences\n",
    "tokenizer = Tokenizer()\n",
    "total_reviews = imdb_data['cleaned_review']\n",
    "tokenizer.fit_on_texts(total_reviews)\n",
    "\n",
    "X_train_tokens = tokenizer.texts_to_sequences(X_org_train)\n",
    "X_test_tokens = tokenizer.texts_to_sequences(X_org_test)"
   ]
  },
  {
   "cell_type": "code",
   "execution_count": 0,
   "metadata": {
    "ExecuteTime": {
     "end_time": "2019-12-12T05:06:10.824275Z",
     "start_time": "2019-12-12T05:06:10.821388Z"
    },
    "colab": {},
    "colab_type": "code",
    "id": "D3NlpUh8hpwH"
   },
   "outputs": [],
   "source": [
    "vocab_size = len(tokenizer.word_index) + 1\n",
    "lexiconscore = np.zeros(vocab_size)"
   ]
  },
  {
   "cell_type": "code",
   "execution_count": 0,
   "metadata": {
    "ExecuteTime": {
     "end_time": "2019-12-12T05:06:12.302261Z",
     "start_time": "2019-12-12T05:06:12.298165Z"
    },
    "colab": {},
    "colab_type": "code",
    "id": "LjAHjX46hpwK",
    "outputId": "ff11311c-cbb3-40bc-ab6b-62b7fdf92faf"
   },
   "outputs": [
    {
     "data": {
      "text/plain": [
       "19"
      ]
     },
     "execution_count": 13,
     "metadata": {
      "tags": []
     },
     "output_type": "execute_result"
    }
   ],
   "source": [
    "X_train_tokens[0][2]"
   ]
  },
  {
   "cell_type": "markdown",
   "metadata": {
    "colab_type": "text",
    "id": "m-udIQVphpwP"
   },
   "source": [
    "Score of a word could be the number of positive reviews it has appeared minus the number of negative reviews it has appeared in.\n",
    "\n",
    "if the sum of scores in a review is negative, then we predict his review as negative sentiment.\n",
    "else we predict it as positive sentiment."
   ]
  },
  {
   "cell_type": "code",
   "execution_count": 0,
   "metadata": {
    "ExecuteTime": {
     "end_time": "2019-12-12T05:06:13.744132Z",
     "start_time": "2019-12-12T05:06:13.738716Z"
    },
    "colab": {},
    "colab_type": "code",
    "id": "pXHyquV5hpwQ"
   },
   "outputs": [],
   "source": [
    "from copy import deepcopy\n",
    "class LexiconVectorizer():\n",
    "    def __init__(self, lexiconscore, X):\n",
    "        self.lexiconscore = lexiconscore\n",
    "        \n",
    "        #self.newmatrix = deepcopy(X)\n",
    "    \n",
    "    def fit(self, X, y):\n",
    "        for index, line in enumerate(X):\n",
    "            for word in line:\n",
    "                if y[index] == 1:\n",
    "                    self.lexiconscore[word]+=1\n",
    "                else:\n",
    "                    self.lexiconscore[word]-=1\n",
    "        return self\n",
    "    \n",
    "    def transform(self, X):\n",
    "        newmatrix = deepcopy(X)\n",
    "        for i in range(len(X)):\n",
    "            for j in range(len(X[i])):\n",
    "                newmatrix[i][j] = self.lexiconscore[X[i][j]]\n",
    "        return newmatrix"
   ]
  },
  {
   "cell_type": "code",
   "execution_count": 0,
   "metadata": {
    "ExecuteTime": {
     "end_time": "2019-12-12T05:06:28.728599Z",
     "start_time": "2019-12-12T05:06:15.175791Z"
    },
    "colab": {},
    "colab_type": "code",
    "id": "CGYpR91ChpwR"
   },
   "outputs": [],
   "source": [
    "lexiconvectorizer = LexiconVectorizer(lexiconscore, X_train_tokens)\n",
    "lexiconvectorizer.fit(X_train_tokens, y_train)\n",
    "X_lexicon_train = lexiconvectorizer.transform(X_train_tokens)\n",
    "X_lexicon_test = lexiconvectorizer.transform(X_test_tokens)\n"
   ]
  },
  {
   "cell_type": "code",
   "execution_count": 0,
   "metadata": {
    "ExecuteTime": {
     "end_time": "2019-12-12T05:38:10.171678Z",
     "start_time": "2019-12-12T05:38:10.038123Z"
    },
    "colab": {},
    "colab_type": "code",
    "id": "DsAMb6rwhpwS"
   },
   "outputs": [],
   "source": [
    "lexicon_pred = [1 if sum(X)>0 else 0 for X in X_lexicon_test]"
   ]
  },
  {
   "cell_type": "code",
   "execution_count": 0,
   "metadata": {
    "ExecuteTime": {
     "end_time": "2019-12-12T05:38:50.248542Z",
     "start_time": "2019-12-12T05:38:50.179615Z"
    },
    "colab": {},
    "colab_type": "code",
    "id": "Qsy_PbxFhpwT",
    "outputId": "c577aa73-8d94-45e9-eca6-d5283b01ef86"
   },
   "outputs": [
    {
     "name": "stdout",
     "output_type": "stream",
     "text": [
      "accracy:  0.6171\n",
      "precision:  0.8677839851024208\n",
      "recal:  0.2788193059433586\n",
      "f1_score:  0.4220377358490566\n",
      "AUC:  0.6180498455107888\n"
     ]
    }
   ],
   "source": [
    "print_metrics(lexicon_pred, y_test)"
   ]
  },
  {
   "cell_type": "markdown",
   "metadata": {
    "colab_type": "text",
    "id": "4terktV-hpwV"
   },
   "source": [
    "## TF-IDF"
   ]
  },
  {
   "cell_type": "code",
   "execution_count": 0,
   "metadata": {
    "ExecuteTime": {
     "end_time": "2019-12-09T02:20:17.573916Z",
     "start_time": "2019-12-09T02:19:41.781744Z"
    },
    "colab": {},
    "colab_type": "code",
    "id": "3bw8Eh33hpwW",
    "outputId": "98104a4d-47de-49e7-e8fb-22b9a07f0999"
   },
   "outputs": [
    {
     "name": "stdout",
     "output_type": "stream",
     "text": [
      "Tfidf_train: (40000, 2183311)\n",
      "Tfidf_test: (10000, 2183311)\n"
     ]
    }
   ],
   "source": [
    "#Tfidf vectorizer\n",
    "tv=TfidfVectorizer(min_df=0,max_df=1,use_idf=True,ngram_range=(1,2))\n",
    "#transformed train reviews\n",
    "tv.fit(X_org_train)\n",
    "X_tfidf_train = tv.transform(X_org_train)\n",
    "#transformed test reviews\n",
    "X_tfidf_test = tv.transform(X_org_test)\n",
    "print('Tfidf_train:',X_tfidf_train.shape)\n",
    "print('Tfidf_test:',X_tfidf_test.shape)"
   ]
  },
  {
   "cell_type": "markdown",
   "metadata": {
    "colab_type": "text",
    "id": "-v9scf0khpwY"
   },
   "source": [
    "### Logistical Regression"
   ]
  },
  {
   "cell_type": "code",
   "execution_count": 0,
   "metadata": {
    "ExecuteTime": {
     "end_time": "2019-12-09T02:20:46.554811Z",
     "start_time": "2019-12-09T02:20:45.401326Z"
    },
    "colab": {},
    "colab_type": "code",
    "id": "U4mmKsqchpwZ",
    "outputId": "11e2d54e-f678-47ec-c62e-386f0824180f"
   },
   "outputs": [
    {
     "name": "stderr",
     "output_type": "stream",
     "text": [
      "/Users/qianqu/anaconda3/lib/python3.6/site-packages/sklearn/linear_model/logistic.py:433: FutureWarning: Default solver will be changed to 'lbfgs' in 0.22. Specify a solver to silence this warning.\n",
      "  FutureWarning)\n",
      "/Users/qianqu/anaconda3/lib/python3.6/site-packages/sklearn/utils/validation.py:761: DataConversionWarning: A column-vector y was passed when a 1d array was expected. Please change the shape of y to (n_samples, ), for example using ravel().\n",
      "  y = column_or_1d(y, warn=True)\n"
     ]
    },
    {
     "name": "stdout",
     "output_type": "stream",
     "text": [
      "accracy:  0.6996\n",
      "precision:  0.7220655239748318\n",
      "recal:  0.658879429815878\n",
      "f1_score:  0.6890269151138715\n",
      "AUC:  0.7000196300423096\n"
     ]
    }
   ],
   "source": [
    "lr = LogisticRegression(C=1)\n",
    "lr.fit(X_tfidf_train, y_train)\n",
    "lr_pred = lr.predict(X_tfidf_test)\n",
    "#lr_pred\n",
    "#print(accuracy_score(y_test, lr.predict(X_test)))\n",
    "print_metrics(lr_pred, y_test)"
   ]
  },
  {
   "cell_type": "markdown",
   "metadata": {
    "colab_type": "text",
    "id": "K-ivU5YWhpwb"
   },
   "source": [
    "### Random Forest"
   ]
  },
  {
   "cell_type": "code",
   "execution_count": 0,
   "metadata": {
    "ExecuteTime": {
     "end_time": "2019-12-09T02:43:30.662361Z",
     "start_time": "2019-12-09T02:43:20.847568Z"
    },
    "colab": {},
    "colab_type": "code",
    "id": "flEJNsvEhpwb",
    "outputId": "466d82e0-4452-4f9a-a97a-910990792a4b"
   },
   "outputs": [
    {
     "name": "stderr",
     "output_type": "stream",
     "text": [
      "/Users/qianqu/anaconda3/lib/python3.6/site-packages/ipykernel_launcher.py:5: DataConversionWarning: A column-vector y was passed when a 1d array was expected. Please change the shape of y to (n_samples,), for example using ravel().\n",
      "  \"\"\"\n"
     ]
    },
    {
     "name": "stdout",
     "output_type": "stream",
     "text": [
      "accracy:  0.4989\n",
      "precision:  0.7702702702702703\n",
      "recal:  0.011284894080380123\n",
      "f1_score:  0.022243902439024393\n",
      "AUC:  0.5039249283495454\n"
     ]
    }
   ],
   "source": [
    "from sklearn.ensemble import RandomForestClassifier\n",
    "from sklearn.datasets import make_classification\n",
    "clf_forest = RandomForestClassifier(n_estimators=300, oob_score=False, max_depth=100)\n",
    "clf_forest.set_params(max_features=50)\n",
    "clf_forest= clf_forest.fit(X_tfidf_train, y_train)\n",
    "clf_forest_pred = clf_forest.predict(X_tfidf_test)\n",
    "#print(accuracy_score(y_test,clf_forest.predict(X_test)))\n",
    "print_metrics(clf_forest_pred, y_test)"
   ]
  },
  {
   "cell_type": "markdown",
   "metadata": {
    "colab_type": "text",
    "id": "M1Gdxcj3hpwd"
   },
   "source": [
    "### Naive Bayes"
   ]
  },
  {
   "cell_type": "code",
   "execution_count": 0,
   "metadata": {
    "ExecuteTime": {
     "end_time": "2019-12-09T02:44:12.503147Z",
     "start_time": "2019-12-09T02:44:12.312751Z"
    },
    "colab": {},
    "colab_type": "code",
    "id": "XM9NAEJghpwd",
    "outputId": "8ca201a4-784f-4aa3-8817-cde049ee78fa"
   },
   "outputs": [
    {
     "name": "stdout",
     "output_type": "stream",
     "text": [
      "accracy:  0.7013\n",
      "precision:  0.7182741116751269\n",
      "recal:  0.6723421104731736\n",
      "f1_score:  0.6945495449432457\n",
      "AUC:  0.7015984142990237\n"
     ]
    },
    {
     "name": "stderr",
     "output_type": "stream",
     "text": [
      "/Users/qianqu/anaconda3/lib/python3.6/site-packages/sklearn/utils/validation.py:761: DataConversionWarning: A column-vector y was passed when a 1d array was expected. Please change the shape of y to (n_samples, ), for example using ravel().\n",
      "  y = column_or_1d(y, warn=True)\n"
     ]
    }
   ],
   "source": [
    "clf_NB = MultinomialNB()\n",
    "clf_NB.fit(X_tfidf_train,y_train)\n",
    "clf_NB_pred = clf_NB.predict(X_tfidf_test)\n",
    "#print(accuracy_score(clf.predict(X_test),y_test))\n",
    "print_metrics(clf_NB_pred, y_test)"
   ]
  },
  {
   "cell_type": "markdown",
   "metadata": {
    "colab_type": "text",
    "id": "y6ncHacMhpwf"
   },
   "source": [
    "### KNN"
   ]
  },
  {
   "cell_type": "code",
   "execution_count": 0,
   "metadata": {
    "ExecuteTime": {
     "end_time": "2019-12-09T02:46:39.588958Z",
     "start_time": "2019-12-09T02:46:31.051461Z"
    },
    "colab": {},
    "colab_type": "code",
    "id": "rKCW2fryhpwg",
    "outputId": "816fcfe3-3661-4f84-bc0f-e420781a0516"
   },
   "outputs": [
    {
     "name": "stderr",
     "output_type": "stream",
     "text": [
      "/Users/qianqu/anaconda3/lib/python3.6/site-packages/ipykernel_launcher.py:3: DataConversionWarning: A column-vector y was passed when a 1d array was expected. Please change the shape of y to (n_samples, ), for example using ravel().\n",
      "  This is separate from the ipykernel package so we can avoid doing imports until\n"
     ]
    },
    {
     "name": "stdout",
     "output_type": "stream",
     "text": [
      "accracy:  0.4962\n",
      "precision:  0.5206349206349207\n",
      "recal:  0.03246881805583053\n",
      "f1_score:  0.06112560566530003\n",
      "AUC:  0.5009788018345429\n"
     ]
    }
   ],
   "source": [
    "from sklearn.neighbors import KNeighborsClassifier\n",
    "neigh = KNeighborsClassifier(n_neighbors=10)\n",
    "neigh.fit(X_tfidf_train,y_train)\n",
    "neigh_pred = neigh.predict(X_tfidf_test)\n",
    "#print(accuracy_score(neigh.predict(X_test),y_test))\n",
    "print_metrics(neigh_pred, y_test)"
   ]
  },
  {
   "cell_type": "code",
   "execution_count": 0,
   "metadata": {
    "colab": {},
    "colab_type": "code",
    "id": "qRQODlvChpwh"
   },
   "outputs": [],
   "source": []
  },
  {
   "cell_type": "markdown",
   "metadata": {
    "colab_type": "text",
    "id": "dC7ylqlxhpwi"
   },
   "source": [
    "## Word Embedding - Word2Vector"
   ]
  },
  {
   "cell_type": "markdown",
   "metadata": {
    "colab_type": "text",
    "id": "I4zewvlfhpwi"
   },
   "source": [
    "### tokenizer and get embedding matrix"
   ]
  },
  {
   "cell_type": "code",
   "execution_count": 0,
   "metadata": {
    "ExecuteTime": {
     "end_time": "2019-12-11T20:46:49.129663Z",
     "start_time": "2019-12-11T20:46:03.199501Z"
    },
    "colab": {},
    "colab_type": "code",
    "id": "w59clNB8hpwi"
   },
   "outputs": [],
   "source": [
    "import gensim\n",
    "EMBED_DIM = 100\n",
    "w2v_model = gensim.models.Word2Vec(sentences=imdb_data['cleaned_review'],size=EMBED_DIM,window=5,workers=4,min_count=1)\n",
    "\n",
    "tokenizer = Tokenizer()\n",
    "total_reviews = imdb_data['cleaned_review']\n",
    "tokenizer.fit_on_texts(total_reviews)\n",
    "\n",
    "X_train_tokens = tokenizer.texts_to_sequences(X_org_train)\n",
    "X_test_tokens = tokenizer.texts_to_sequences(X_org_test)\n",
    "vocab_size = len(tokenizer.word_index) + 1\n",
    "embedding_weights = np.zeros((vocab_size, EMBED_DIM))\n",
    "for word, index in tokenizer.word_index.items():\n",
    "    #embedding_vector = word2vec.get(word)\n",
    "    try:\n",
    "        embedding_weights[index] = w2v_model.wv.get_vector(word)\n",
    "    except:\n",
    "        pass \n"
   ]
  },
  {
   "cell_type": "markdown",
   "metadata": {
    "colab_type": "text",
    "id": "qoMC6qJghpwk"
   },
   "source": [
    "### Mean embedding "
   ]
  },
  {
   "cell_type": "markdown",
   "metadata": {
    "colab_type": "text",
    "id": "YiovAqdIhpwl"
   },
   "source": [
    "now we can convert each word to an vector. so for a review(a sample in training set), we can average the vectors of the words to get the representation for that review."
   ]
  },
  {
   "cell_type": "code",
   "execution_count": 0,
   "metadata": {
    "ExecuteTime": {
     "end_time": "2019-12-11T20:59:13.476786Z",
     "start_time": "2019-12-11T20:59:13.470286Z"
    },
    "colab": {},
    "colab_type": "code",
    "id": "CrObfOPJhpwl"
   },
   "outputs": [],
   "source": [
    "class MeanEmbeddingVectorizer(object):\n",
    "    def __init__(self, word2vec):\n",
    "        self.word2vec = word2vec\n",
    "        # if a text is empty we should return a vector of zeros\n",
    "        # with the same dimensionality as all the other vectors\n",
    "        #self.dim = len(word2vec.itervalues().next())\n",
    "        self.dim = self.word2vec.shape[1]\n",
    "        self.vocab_size = self.word2vec.shape[0]\n",
    "\n",
    "    def fit(self, X, y):\n",
    "        return self\n",
    "\n",
    "    def transform(self, X):\n",
    "        return np.array([\n",
    "            np.mean([self.word2vec[w] for w in words if w in range(self.vocab_size)]\n",
    "                    or [np.zeros(self.dim)], axis=0)\n",
    "            for words in X\n",
    "        ])\n",
    "\n",
    "\n"
   ]
  },
  {
   "cell_type": "code",
   "execution_count": 0,
   "metadata": {
    "ExecuteTime": {
     "end_time": "2019-12-11T21:10:03.657863Z",
     "start_time": "2019-12-11T21:09:53.242212Z"
    },
    "colab": {},
    "colab_type": "code",
    "id": "oqAeysejhpwm",
    "outputId": "532ef4df-a206-47a9-e065-bb056e6ea3f3"
   },
   "outputs": [
    {
     "name": "stdout",
     "output_type": "stream",
     "text": [
      "Word2Vector_train: (40000, 100)\n",
      "Word2Vector_test: (10000, 100)\n"
     ]
    }
   ],
   "source": [
    "meanEmbeddingV = MeanEmbeddingVectorizer(embedding_weights)\n",
    "\n",
    "X_w2v_train = meanEmbeddingV.transform(X_train_tokens)\n",
    "#transformed test reviews\n",
    "X_w2v_test = meanEmbeddingV.transform(X_test_tokens)\n",
    "print('Word2Vector_train:',X_w2v_train.shape)\n",
    "print('Word2Vector_test:',X_w2v_test.shape)\n"
   ]
  },
  {
   "cell_type": "code",
   "execution_count": 0,
   "metadata": {
    "ExecuteTime": {
     "end_time": "2019-12-11T21:10:13.520337Z",
     "start_time": "2019-12-11T21:10:13.513785Z"
    },
    "colab": {},
    "colab_type": "code",
    "id": "p65pFwtFhpwn",
    "outputId": "ad4010da-9fc7-4d39-9016-33f118c862d9"
   },
   "outputs": [
    {
     "data": {
      "text/plain": [
       "array([ 0.0104273 , -0.00203983, -0.05608568,  0.03758859,  0.00908601,\n",
       "        0.00039188, -0.01390308,  0.00887141,  0.04758678, -0.00113338,\n",
       "        0.00813701,  0.03691166,  0.04582194, -0.01753682, -0.03011815,\n",
       "       -0.0158201 , -0.00869058, -0.01778313, -0.00966533, -0.01465392,\n",
       "       -0.01988024,  0.02232124, -0.00266152, -0.01901961,  0.04676169,\n",
       "        0.00841592,  0.02056091, -0.02283557,  0.01001358,  0.00284816,\n",
       "        0.01844473,  0.00631297,  0.00486799, -0.02821401, -0.02861848,\n",
       "        0.03093796,  0.01727938,  0.01159177, -0.00572048, -0.00690279,\n",
       "       -0.00967874,  0.01832805,  0.01376252,  0.03228483,  0.01893094,\n",
       "       -0.01584135,  0.0082414 , -0.000725  ,  0.01852956,  0.03112938,\n",
       "       -0.01518954,  0.01894358,  0.02325337,  0.0057534 , -0.04152927,\n",
       "        0.03282391,  0.02123917, -0.01266457,  0.00512565,  0.01536137,\n",
       "       -0.01232971,  0.01565146,  0.01503594, -0.00158669,  0.00098598,\n",
       "       -0.00482445, -0.01490202, -0.00289042, -0.00031951,  0.00621186,\n",
       "       -0.00885609, -0.01664214, -0.01258541,  0.00863262,  0.00654914,\n",
       "        0.0136321 , -0.01539228, -0.01149854, -0.01144066,  0.00728374,\n",
       "       -0.00083737,  0.0104561 , -0.02124859,  0.00771335, -0.01416185,\n",
       "       -0.01099556, -0.02002505,  0.00382465, -0.02444481,  0.02216392,\n",
       "        0.00165591, -0.01579808, -0.02339033, -0.00514006,  0.00798741,\n",
       "       -0.00024642, -0.00713125, -0.01906182, -0.00981893,  0.05710412])"
      ]
     },
     "execution_count": 159,
     "metadata": {
      "tags": []
     },
     "output_type": "execute_result"
    }
   ],
   "source": [
    "X_w2v_train[0]\n"
   ]
  },
  {
   "cell_type": "markdown",
   "metadata": {
    "colab_type": "text",
    "id": "RjWZEk9whpwp"
   },
   "source": [
    "#### logistical Regression"
   ]
  },
  {
   "cell_type": "code",
   "execution_count": 0,
   "metadata": {
    "ExecuteTime": {
     "end_time": "2019-12-11T21:10:24.234927Z",
     "start_time": "2019-12-11T21:10:23.543733Z"
    },
    "colab": {},
    "colab_type": "code",
    "id": "jaZqPNmehpwp",
    "outputId": "85375392-2c45-4d76-b622-74ee34580a53"
   },
   "outputs": [
    {
     "name": "stderr",
     "output_type": "stream",
     "text": [
      "/Users/qianqu/anaconda3/lib/python3.6/site-packages/sklearn/linear_model/logistic.py:433: FutureWarning: Default solver will be changed to 'lbfgs' in 0.22. Specify a solver to silence this warning.\n",
      "  FutureWarning)\n",
      "/Users/qianqu/anaconda3/lib/python3.6/site-packages/sklearn/utils/validation.py:761: DataConversionWarning: A column-vector y was passed when a 1d array was expected. Please change the shape of y to (n_samples, ), for example using ravel().\n",
      "  y = column_or_1d(y, warn=True)\n"
     ]
    },
    {
     "name": "stdout",
     "output_type": "stream",
     "text": [
      "accracy:  0.5679\n",
      "precision:  0.5548377403846154\n",
      "recal:  0.7311423480498911\n",
      "f1_score:  0.6309045869992312\n",
      "AUC:  0.5662177692967176\n"
     ]
    }
   ],
   "source": [
    "lr = LogisticRegression(C=1)\n",
    "lr.fit(X_w2v_train, y_train)\n",
    "lr_pred = lr.predict(X_w2v_test)\n",
    "\n",
    "print_metrics(lr_pred, y_test)"
   ]
  },
  {
   "cell_type": "markdown",
   "metadata": {
    "colab_type": "text",
    "id": "pm4qG8Y_hpwr"
   },
   "source": [
    "#### Random Forest"
   ]
  },
  {
   "cell_type": "code",
   "execution_count": 0,
   "metadata": {
    "ExecuteTime": {
     "end_time": "2019-12-11T21:20:38.664750Z",
     "start_time": "2019-12-11T21:17:38.341593Z"
    },
    "colab": {},
    "colab_type": "code",
    "id": "kGGZlY_ihpwr",
    "outputId": "f2a40359-4ee1-4bd9-ff13-e471766203eb"
   },
   "outputs": [
    {
     "name": "stderr",
     "output_type": "stream",
     "text": [
      "/Users/qianqu/anaconda3/lib/python3.6/site-packages/ipykernel_launcher.py:3: DataConversionWarning: A column-vector y was passed when a 1d array was expected. Please change the shape of y to (n_samples,), for example using ravel().\n",
      "  This is separate from the ipykernel package so we can avoid doing imports until\n"
     ]
    },
    {
     "name": "stdout",
     "output_type": "stream",
     "text": [
      "accracy:  0.5748\n",
      "precision:  0.5760517799352751\n",
      "recal:  0.5990892892496535\n",
      "f1_score:  0.5873447204968945\n",
      "AUC:  0.5745496961503875\n"
     ]
    }
   ],
   "source": [
    "clf_forest = RandomForestClassifier(n_estimators=300, oob_score=False, max_depth=30)\n",
    "clf_forest.set_params(max_features=20)\n",
    "clf_forest= clf_forest.fit(X_w2v_train, y_train)\n",
    "clf_forest_pred = clf_forest.predict(X_w2v_test)\n",
    "#print(accuracy_score(y_test,clf_forest.predict(X_test)))\n",
    "print_metrics(clf_forest_pred, y_test)"
   ]
  },
  {
   "cell_type": "markdown",
   "metadata": {
    "colab_type": "text",
    "id": "HYjQX2HIhpws"
   },
   "source": [
    "#### Naive Bayes"
   ]
  },
  {
   "cell_type": "code",
   "execution_count": 0,
   "metadata": {
    "ExecuteTime": {
     "end_time": "2019-12-11T21:28:25.464424Z",
     "start_time": "2019-12-11T21:28:25.216450Z"
    },
    "colab": {},
    "colab_type": "code",
    "id": "q8hjDd8Qhpwt",
    "outputId": "fcb4e257-0969-4c0a-db94-2e13c638b8ff"
   },
   "outputs": [
    {
     "name": "stdout",
     "output_type": "stream",
     "text": [
      "accracy:  0.4975\n",
      "precision:  0.7241379310344828\n",
      "recal:  0.008315185111859039\n",
      "f1_score:  0.016441573693482092\n",
      "AUC:  0.5025411043764993\n"
     ]
    },
    {
     "name": "stderr",
     "output_type": "stream",
     "text": [
      "/Users/qianqu/anaconda3/lib/python3.6/site-packages/sklearn/utils/validation.py:761: DataConversionWarning: A column-vector y was passed when a 1d array was expected. Please change the shape of y to (n_samples, ), for example using ravel().\n",
      "  y = column_or_1d(y, warn=True)\n"
     ]
    }
   ],
   "source": [
    "def scale(X, x_min, x_max):\n",
    "    nom = (X-X.min(axis=0))*(x_max-x_min)\n",
    "    denom = X.max(axis=0) - X.min(axis=0)\n",
    "    denom[denom==0] = 1\n",
    "    return x_min + nom/denom \n",
    "\n",
    "X_norm_w2v_train = scale(X_w2v_train, 0, 1)\n",
    "X_norm_w2v_test = scale(X_w2v_test, 0, 1)\n",
    "clf_NB = MultinomialNB()\n",
    "clf_NB.fit(X_norm_w2v_train,y_train)\n",
    "clf_NB_pred = clf_NB.predict(X_norm_w2v_test)\n",
    "print_metrics(clf_NB_pred, y_test)"
   ]
  },
  {
   "cell_type": "markdown",
   "metadata": {
    "colab_type": "text",
    "id": "Nbm7NORuhpwu"
   },
   "source": [
    "#### KNN"
   ]
  },
  {
   "cell_type": "code",
   "execution_count": 0,
   "metadata": {
    "ExecuteTime": {
     "end_time": "2019-12-11T22:16:44.960902Z",
     "start_time": "2019-12-11T22:16:38.237267Z"
    },
    "colab": {},
    "colab_type": "code",
    "id": "pFHlSaLZhpwv",
    "outputId": "bb26416c-7a4b-4e2d-917c-99fe6af532d4"
   },
   "outputs": [
    {
     "name": "stderr",
     "output_type": "stream",
     "text": [
      "/Users/qianqu/anaconda3/lib/python3.6/site-packages/ipykernel_launcher.py:2: DataConversionWarning: A column-vector y was passed when a 1d array was expected. Please change the shape of y to (n_samples, ), for example using ravel().\n",
      "  \n"
     ]
    },
    {
     "name": "stdout",
     "output_type": "stream",
     "text": [
      "accracy:  0.5672\n",
      "precision:  0.5996691480562448\n",
      "recal:  0.4306078004355573\n",
      "f1_score:  0.5012675731735422\n",
      "AUC:  0.5686075979344891\n"
     ]
    }
   ],
   "source": [
    "neigh = KNeighborsClassifier(n_neighbors=20)\n",
    "neigh.fit(X_w2v_train,y_train)\n",
    "neigh_pred = neigh.predict(X_w2v_test)\n",
    "print_metrics(neigh_pred, y_test)"
   ]
  },
  {
   "cell_type": "markdown",
   "metadata": {
    "colab_type": "text",
    "id": "87vtQ2iYhpww"
   },
   "source": [
    "### TF-IDF embedding"
   ]
  },
  {
   "cell_type": "markdown",
   "metadata": {
    "colab_type": "text",
    "id": "aaaOEvzAhpwx"
   },
   "source": [
    "Rather than just average the word vectors in an review, this time we average them weighted by TF-IDF"
   ]
  },
  {
   "cell_type": "code",
   "execution_count": 0,
   "metadata": {
    "ExecuteTime": {
     "end_time": "2019-12-11T23:34:12.271349Z",
     "start_time": "2019-12-11T23:34:12.263523Z"
    },
    "colab": {},
    "colab_type": "code",
    "id": "5odFUGP0hpwx"
   },
   "outputs": [],
   "source": [
    "import collections\n",
    "\n",
    "class TfidfEmbeddingVectorizer(object):\n",
    "    def __init__(self, word2vec):\n",
    "        self.word2vec = word2vec\n",
    "        self.word2weight = None\n",
    "        self.dim = self.word2vec.shape[1]\n",
    "        self.vocab_size = self.word2vec.shape[0]\n",
    "\n",
    "    def fit(self, X):\n",
    "        tfidf = TfidfVectorizer(analyzer=lambda x: x)\n",
    "        tfidf.fit(X)\n",
    "        # if a word was never seen - it must be at least as infrequent\n",
    "        # as any of the known words - so the default idf is the max of \n",
    "        # known idf's\n",
    "        max_idf = max(tfidf.idf_)\n",
    "        self.word2weight = collections.defaultdict(\n",
    "            lambda: max_idf,\n",
    "            [(w, tfidf.idf_[i]) for w, i in tfidf.vocabulary_.items()])\n",
    "\n",
    "        return self\n",
    "\n",
    "    def transform(self, X):\n",
    "        return np.array([\n",
    "                np.mean([self.word2vec[w] * self.word2weight[w]\n",
    "                         for w in words if w in range(self.vocab_size)] or\n",
    "                        [np.zeros(self.dim)], axis=0)\n",
    "                for words in X\n",
    "            ])"
   ]
  },
  {
   "cell_type": "code",
   "execution_count": 0,
   "metadata": {
    "ExecuteTime": {
     "end_time": "2019-12-11T23:36:46.807027Z",
     "start_time": "2019-12-11T23:35:32.970935Z"
    },
    "colab": {},
    "colab_type": "code",
    "id": "9QDoNMLehpw5",
    "outputId": "96d94156-0005-4bbd-bf94-9c83d3655042"
   },
   "outputs": [
    {
     "name": "stdout",
     "output_type": "stream",
     "text": [
      "Word2Vector_train: (40000, 100)\n",
      "Word2Vector_test: (10000, 100)\n"
     ]
    }
   ],
   "source": [
    "tfidfEmbeddingV = TfidfEmbeddingVectorizer(embedding_weights)\n",
    "tfidfEmbeddingV.fit(X_train_tokens)\n",
    "X_w2vtfidf_train = tfidfEmbeddingV.transform(X_train_tokens)\n",
    "#transformed test reviews\n",
    "X_w2vtfidf_test = tfidfEmbeddingV.transform(X_test_tokens)\n",
    "print('Word2Vector_train:',X_w2vtfidf_train.shape)\n",
    "print('Word2Vector_test:',X_w2vtfidf_test.shape)"
   ]
  },
  {
   "cell_type": "code",
   "execution_count": 0,
   "metadata": {
    "ExecuteTime": {
     "end_time": "2019-12-11T23:37:18.081647Z",
     "start_time": "2019-12-11T23:37:18.067101Z"
    },
    "colab": {},
    "colab_type": "code",
    "id": "Qp2bDarrhpw6",
    "outputId": "3d53cbce-3b4d-42c7-aa1a-cfeb1cf1488e"
   },
   "outputs": [
    {
     "data": {
      "text/plain": [
       "array([ 0.01344749, -0.00263065, -0.07233046,  0.04847584,  0.01171771,\n",
       "        0.00050538, -0.01793001,  0.01144095,  0.06136992, -0.00146166,\n",
       "        0.01049383,  0.04760283,  0.05909392, -0.02261622, -0.03884164,\n",
       "       -0.02040227, -0.01120774, -0.02293387, -0.01246481, -0.01889832,\n",
       "       -0.0256384 ,  0.02878642, -0.00343241, -0.0245285 ,  0.06030585,\n",
       "        0.01085353,  0.02651622, -0.02944972,  0.01291394,  0.00367311,\n",
       "        0.0237871 ,  0.00814147,  0.00627796, -0.03638598, -0.03690761,\n",
       "        0.0398989 ,  0.02228422,  0.01494924, -0.00737738, -0.00890213,\n",
       "       -0.01248211,  0.02363663,  0.01774873,  0.04163588,  0.02441415,\n",
       "       -0.02042967,  0.01062846, -0.00093499,  0.02389651,  0.04014576,\n",
       "       -0.01958908,  0.02443044,  0.02998853,  0.00741983, -0.0535579 ,\n",
       "        0.0423311 ,  0.02739093, -0.01633276,  0.00661026,  0.01981067,\n",
       "       -0.01590092,  0.02018478,  0.01939098, -0.00204626,  0.00127156,\n",
       "       -0.00622181, -0.01921828, -0.0037276 , -0.00041205,  0.00801108,\n",
       "       -0.01142119, -0.02146241, -0.01623068,  0.01113299,  0.00844605,\n",
       "        0.01758053, -0.01985053, -0.014829  , -0.01475436,  0.00939342,\n",
       "       -0.0010799 ,  0.01348462, -0.02740308,  0.00994746, -0.01826372,\n",
       "       -0.01418034, -0.02582516,  0.00493244, -0.03152506,  0.02858352,\n",
       "        0.00213553, -0.02037388, -0.03016516, -0.00662884,  0.0103009 ,\n",
       "       -0.00031779, -0.00919676, -0.02458293, -0.01266291,  0.07364388])"
      ]
     },
     "execution_count": 219,
     "metadata": {
      "tags": []
     },
     "output_type": "execute_result"
    }
   ],
   "source": [
    "X_w2vtfidf_train[0]"
   ]
  },
  {
   "cell_type": "markdown",
   "metadata": {
    "colab_type": "text",
    "id": "u_o6TuFghpw7"
   },
   "source": [
    "#### Logistical Regression"
   ]
  },
  {
   "cell_type": "code",
   "execution_count": 0,
   "metadata": {
    "ExecuteTime": {
     "end_time": "2019-12-11T23:39:06.049501Z",
     "start_time": "2019-12-11T23:39:04.836477Z"
    },
    "colab": {},
    "colab_type": "code",
    "id": "FCmwK6yLhpw8",
    "outputId": "ca8ae75a-f768-4204-a560-38b94a53cf55"
   },
   "outputs": [
    {
     "name": "stderr",
     "output_type": "stream",
     "text": [
      "/Users/qianqu/anaconda3/lib/python3.6/site-packages/sklearn/linear_model/logistic.py:433: FutureWarning: Default solver will be changed to 'lbfgs' in 0.22. Specify a solver to silence this warning.\n",
      "  FutureWarning)\n",
      "/Users/qianqu/anaconda3/lib/python3.6/site-packages/sklearn/utils/validation.py:761: DataConversionWarning: A column-vector y was passed when a 1d array was expected. Please change the shape of y to (n_samples, ), for example using ravel().\n",
      "  y = column_or_1d(y, warn=True)\n"
     ]
    },
    {
     "name": "stdout",
     "output_type": "stream",
     "text": [
      "accracy:  0.5771\n",
      "precision:  0.5617673579801623\n",
      "recal:  0.7400514749554543\n",
      "f1_score:  0.638701409653994\n",
      "AUC:  0.5754207667765754\n"
     ]
    }
   ],
   "source": [
    "lr = LogisticRegression()\n",
    "lr.fit(X_w2vtfidf_train, y_train)\n",
    "lr_pred = lr.predict(X_w2vtfidf_test)\n",
    "\n",
    "print_metrics(lr_pred, y_test)"
   ]
  },
  {
   "cell_type": "markdown",
   "metadata": {
    "colab_type": "text",
    "id": "g9NFvx9ohpxA"
   },
   "source": [
    "#### Random Forest "
   ]
  },
  {
   "cell_type": "code",
   "execution_count": 0,
   "metadata": {
    "ExecuteTime": {
     "end_time": "2019-12-11T23:41:55.853606Z",
     "start_time": "2019-12-11T23:40:55.462746Z"
    },
    "colab": {},
    "colab_type": "code",
    "id": "nv9RdlCzhpxA",
    "outputId": "05a91af3-56e1-4b4d-c2e7-f1ba9f20896c"
   },
   "outputs": [
    {
     "name": "stderr",
     "output_type": "stream",
     "text": [
      "/Users/qianqu/anaconda3/lib/python3.6/site-packages/ipykernel_launcher.py:3: DataConversionWarning: A column-vector y was passed when a 1d array was expected. Please change the shape of y to (n_samples,), for example using ravel().\n",
      "  This is separate from the ipykernel package so we can avoid doing imports until\n"
     ]
    },
    {
     "name": "stdout",
     "output_type": "stream",
     "text": [
      "accracy:  0.574\n",
      "precision:  0.5765138324627588\n",
      "recal:  0.5899821817461889\n",
      "f1_score:  0.5831702544031311\n",
      "AUC:  0.5738353018248018\n"
     ]
    }
   ],
   "source": [
    "clf_forest = RandomForestClassifier(n_estimators=100, oob_score=False, max_depth=30)\n",
    "clf_forest.set_params(max_features=20)\n",
    "clf_forest= clf_forest.fit(X_w2vtfidf_train, y_train)\n",
    "clf_forest_pred = clf_forest.predict(X_w2vtfidf_test)\n",
    "#print(accuracy_score(y_test,clf_forest.predict(X_test)))\n",
    "print_metrics(clf_forest_pred, y_test)"
   ]
  },
  {
   "cell_type": "markdown",
   "metadata": {
    "colab_type": "text",
    "id": "gfnfRv2nhpxC"
   },
   "source": [
    "#### Naive Bayes"
   ]
  },
  {
   "cell_type": "code",
   "execution_count": 0,
   "metadata": {
    "ExecuteTime": {
     "end_time": "2019-12-11T23:42:16.591080Z",
     "start_time": "2019-12-11T23:42:16.451326Z"
    },
    "colab": {},
    "colab_type": "code",
    "id": "ok6VueZehpxC",
    "outputId": "a78ffa09-25bb-44c8-f1dc-83123a0dfa54"
   },
   "outputs": [
    {
     "name": "stdout",
     "output_type": "stream",
     "text": [
      "accracy:  0.495\n",
      "precision:  1.0\n",
      "recal:  0.00019798059790140566\n",
      "f1_score:  0.0003958828186856691\n",
      "AUC:  0.5000989902989507\n"
     ]
    },
    {
     "name": "stderr",
     "output_type": "stream",
     "text": [
      "/Users/qianqu/anaconda3/lib/python3.6/site-packages/sklearn/utils/validation.py:761: DataConversionWarning: A column-vector y was passed when a 1d array was expected. Please change the shape of y to (n_samples, ), for example using ravel().\n",
      "  y = column_or_1d(y, warn=True)\n"
     ]
    }
   ],
   "source": [
    "def scale(X, x_min, x_max):\n",
    "    nom = (X-X.min(axis=0))*(x_max-x_min)\n",
    "    denom = X.max(axis=0) - X.min(axis=0)\n",
    "    denom[denom==0] = 1\n",
    "    return x_min + nom/denom \n",
    "\n",
    "X_norm_w2vtfidf_train = scale(X_w2vtfidf_train, 0, 1)\n",
    "X_norm_w2vtfidf_test = scale(X_w2vtfidf_test, 0, 1)\n",
    "clf_NB = MultinomialNB()\n",
    "clf_NB.fit(X_norm_w2vtfidf_train,y_train)\n",
    "clf_NB_pred = clf_NB.predict(X_norm_w2vtfidf_test)\n",
    "print_metrics(clf_NB_pred, y_test)"
   ]
  },
  {
   "cell_type": "markdown",
   "metadata": {
    "colab_type": "text",
    "id": "P6YNP5mlhpxF"
   },
   "source": [
    "#### KNN"
   ]
  },
  {
   "cell_type": "code",
   "execution_count": 0,
   "metadata": {
    "ExecuteTime": {
     "end_time": "2019-12-11T23:42:40.631551Z",
     "start_time": "2019-12-11T23:42:33.314431Z"
    },
    "colab": {},
    "colab_type": "code",
    "id": "3j4riPO6hpxF",
    "outputId": "74b87158-7dc9-45ae-855d-2a7b59d5c14b"
   },
   "outputs": [
    {
     "name": "stderr",
     "output_type": "stream",
     "text": [
      "/Users/qianqu/anaconda3/lib/python3.6/site-packages/ipykernel_launcher.py:2: DataConversionWarning: A column-vector y was passed when a 1d array was expected. Please change the shape of y to (n_samples, ), for example using ravel().\n",
      "  \n"
     ]
    },
    {
     "name": "stdout",
     "output_type": "stream",
     "text": [
      "accracy:  0.577\n",
      "precision:  0.5841705966782859\n",
      "recal:  0.5640467234211047\n",
      "f1_score:  0.5739323126510878\n",
      "AUC:  0.5771334849677761\n"
     ]
    }
   ],
   "source": [
    "neigh = KNeighborsClassifier(n_neighbors=20)\n",
    "neigh.fit(X_w2vtfidf_train,y_train)\n",
    "neigh_pred = neigh.predict(X_w2vtfidf_test)\n",
    "print_metrics(neigh_pred, y_test)"
   ]
  },
  {
   "cell_type": "markdown",
   "metadata": {
    "colab_type": "text",
    "id": "bla-33QuhpxH"
   },
   "source": [
    "## Word Embedding - GloVe"
   ]
  },
  {
   "cell_type": "markdown",
   "metadata": {
    "colab_type": "text",
    "id": "Xsc5kebRhpxH"
   },
   "source": [
    "### get embedding matrix"
   ]
  },
  {
   "cell_type": "code",
   "execution_count": 0,
   "metadata": {
    "ExecuteTime": {
     "end_time": "2019-12-11T17:25:20.370071Z",
     "start_time": "2019-12-11T17:25:20.359721Z"
    },
    "colab": {},
    "colab_type": "code",
    "id": "t6rQwW4BhpxH"
   },
   "outputs": [],
   "source": [
    "# !wget http://nlp.stanford.edu/data/glove.6B.zip\n",
    "# !unzip glove.6B.zip"
   ]
  },
  {
   "cell_type": "code",
   "execution_count": 0,
   "metadata": {
    "ExecuteTime": {
     "end_time": "2019-12-11T22:50:44.120858Z",
     "start_time": "2019-12-11T22:50:38.026050Z"
    },
    "colab": {},
    "colab_type": "code",
    "id": "cqRd5_txhpxJ"
   },
   "outputs": [],
   "source": [
    "with open(\"./glove/glove.6B.50d.txt\", \"rb\") as lines:\n",
    "    w2v_glove = {line.split()[0].decode(\"utf-8\") : np.array(list(map(float, line.split()[1:])))\n",
    "           for line in lines}\n",
    "    "
   ]
  },
  {
   "cell_type": "code",
   "execution_count": 0,
   "metadata": {
    "ExecuteTime": {
     "end_time": "2019-12-11T22:52:35.679004Z",
     "start_time": "2019-12-11T22:52:35.442420Z"
    },
    "colab": {},
    "colab_type": "code",
    "id": "Va2qVl20hpxK"
   },
   "outputs": [],
   "source": [
    "#vocab_size = len(tokenizer.word_index) + 1\n",
    "embedding_glove_weights = np.zeros((vocab_size, 50))\n",
    "for word, index in tokenizer.word_index.items():\n",
    "    #embedding_vector = word2vec.get(word)\n",
    "    try:\n",
    "        embedding_glove_weights[index] = w2v_glove[word]\n",
    "    except:\n",
    "        pass "
   ]
  },
  {
   "cell_type": "code",
   "execution_count": 0,
   "metadata": {
    "ExecuteTime": {
     "end_time": "2019-12-11T22:53:40.553987Z",
     "start_time": "2019-12-11T22:53:40.548786Z"
    },
    "colab": {},
    "colab_type": "code",
    "id": "45Eyw2VVhpxL",
    "outputId": "27ec8b21-136c-4d0e-efd9-7092b9d2f15a"
   },
   "outputs": [
    {
     "data": {
      "text/plain": [
       "array([ 0.1591  , -0.21428 ,  0.63099 , -0.5995  ,  0.31248 , -0.16615 ,\n",
       "       -0.90548 ,  0.45115 ,  0.051568,  0.2591  , -0.32882 ,  0.48155 ,\n",
       "       -0.34982 ,  0.12905 ,  1.0758  ,  0.4869  ,  0.5342  ,  0.059762,\n",
       "        0.2166  , -1.1059  , -0.25591 ,  0.57462 ,  0.54562 ,  0.31043 ,\n",
       "        0.37765 , -2.0337  , -0.22496 ,  0.18447 ,  0.82587 , -1.1991  ,\n",
       "        3.6042  ,  1.1605  , -0.59787 ,  0.13    ,  0.15678 ,  0.13166 ,\n",
       "        0.1851  ,  0.36308 ,  0.57538 , -0.89593 , -0.36366 ,  0.28397 ,\n",
       "        0.048614,  0.7878  , -0.087311, -0.23394 , -0.14237 ,  0.021215,\n",
       "       -0.14219 ,  0.66955 ])"
      ]
     },
     "execution_count": 200,
     "metadata": {
      "tags": []
     },
     "output_type": "execute_result"
    }
   ],
   "source": [
    "embedding_glove_weights[20]"
   ]
  },
  {
   "cell_type": "markdown",
   "metadata": {
    "colab_type": "text",
    "id": "3JPplXq3hpxN"
   },
   "source": [
    "### Mean embedding"
   ]
  },
  {
   "cell_type": "code",
   "execution_count": 0,
   "metadata": {
    "ExecuteTime": {
     "end_time": "2019-12-11T22:56:14.203399Z",
     "start_time": "2019-12-11T22:56:03.771898Z"
    },
    "colab": {},
    "colab_type": "code",
    "id": "M3H0CewthpxN",
    "outputId": "97bc2834-e269-4d9c-9c95-3671e8bb1560"
   },
   "outputs": [
    {
     "name": "stdout",
     "output_type": "stream",
     "text": [
      "GloVe_train: (40000, 50)\n",
      "GloVe_test: (10000, 50)\n"
     ]
    }
   ],
   "source": [
    "meanEmbeddingV2 = MeanEmbeddingVectorizer(embedding_glove_weights)\n",
    "\n",
    "X_glove_train = meanEmbeddingV2.transform(X_train_tokens)\n",
    "#transformed test reviews\n",
    "X_glove_test = meanEmbeddingV2.transform(X_test_tokens)\n",
    "print('GloVe_train:',X_glove_train.shape)\n",
    "print('GloVe_test:',X_glove_test.shape)"
   ]
  },
  {
   "cell_type": "code",
   "execution_count": 0,
   "metadata": {
    "ExecuteTime": {
     "end_time": "2019-12-11T22:57:06.019386Z",
     "start_time": "2019-12-11T22:57:06.013634Z"
    },
    "colab": {},
    "colab_type": "code",
    "id": "sArMmwxxhpxO",
    "outputId": "17cfdea3-9916-4c76-eea8-d4e93dc166c4"
   },
   "outputs": [
    {
     "data": {
      "text/plain": [
       "array([ 0.19612378,  0.10262573, -0.12479258, -0.24730267,  0.30852107,\n",
       "        0.1348295 , -0.30515847, -0.02703393, -0.1889899 ,  0.23296056,\n",
       "       -0.1449559 ,  0.22336797, -0.33006805,  0.1041149 ,  0.54321857,\n",
       "        0.08879227,  0.16220053,  0.0825296 , -0.24199861, -0.25903976,\n",
       "       -0.03388033,  0.33212994,  0.20865943,  0.11983943,  0.37538746,\n",
       "       -1.25191864, -0.57150501,  0.1801282 ,  0.32474942, -0.27715223,\n",
       "        2.28443863,  0.0901018 ,  0.01083599, -0.33817955, -0.01711436,\n",
       "        0.07091514,  0.03952134,  0.1141952 , -0.14188048, -0.35242237,\n",
       "       -0.18863405,  0.19715887, -0.05608767,  0.06061963, -0.07527942,\n",
       "        0.00861911, -0.02180223, -0.17444606, -0.07733212,  0.23095425])"
      ]
     },
     "execution_count": 202,
     "metadata": {
      "tags": []
     },
     "output_type": "execute_result"
    }
   ],
   "source": [
    "X_glove_train[0]"
   ]
  },
  {
   "cell_type": "markdown",
   "metadata": {
    "colab_type": "text",
    "id": "ngzSnXBdhpxP"
   },
   "source": [
    "#### Logistical Regression"
   ]
  },
  {
   "cell_type": "code",
   "execution_count": 0,
   "metadata": {
    "ExecuteTime": {
     "end_time": "2019-12-11T22:58:58.522670Z",
     "start_time": "2019-12-11T22:58:57.914587Z"
    },
    "colab": {},
    "colab_type": "code",
    "id": "qcXbTgjxhpxQ",
    "outputId": "96b51ab2-f7a5-449b-a4fc-064d3d097ae4"
   },
   "outputs": [
    {
     "name": "stderr",
     "output_type": "stream",
     "text": [
      "/Users/qianqu/anaconda3/lib/python3.6/site-packages/sklearn/linear_model/logistic.py:433: FutureWarning: Default solver will be changed to 'lbfgs' in 0.22. Specify a solver to silence this warning.\n",
      "  FutureWarning)\n",
      "/Users/qianqu/anaconda3/lib/python3.6/site-packages/sklearn/utils/validation.py:761: DataConversionWarning: A column-vector y was passed when a 1d array was expected. Please change the shape of y to (n_samples, ), for example using ravel().\n",
      "  y = column_or_1d(y, warn=True)\n"
     ]
    },
    {
     "name": "stdout",
     "output_type": "stream",
     "text": [
      "accracy:  0.7575\n",
      "precision:  0.7633373445647814\n",
      "recal:  0.7535141556127499\n",
      "f1_score:  0.7583939424130716\n",
      "AUC:  0.7575410745733985\n"
     ]
    }
   ],
   "source": [
    "lr = LogisticRegression(C=1)\n",
    "lr.fit(X_glove_train, y_train)\n",
    "lr_pred = lr.predict(X_glove_test)\n",
    "\n",
    "print_metrics(lr_pred, y_test)"
   ]
  },
  {
   "cell_type": "markdown",
   "metadata": {
    "colab_type": "text",
    "id": "7FwXLGirhpxR"
   },
   "source": [
    "#### Random Forest"
   ]
  },
  {
   "cell_type": "code",
   "execution_count": 0,
   "metadata": {
    "ExecuteTime": {
     "end_time": "2019-12-11T23:02:45.889934Z",
     "start_time": "2019-12-11T23:02:12.232139Z"
    },
    "colab": {},
    "colab_type": "code",
    "id": "MeBVchUhhpxR",
    "outputId": "bb861914-57e9-4dd8-8478-c4c1eb78795a"
   },
   "outputs": [
    {
     "name": "stderr",
     "output_type": "stream",
     "text": [
      "/Users/qianqu/anaconda3/lib/python3.6/site-packages/ipykernel_launcher.py:3: DataConversionWarning: A column-vector y was passed when a 1d array was expected. Please change the shape of y to (n_samples,), for example using ravel().\n",
      "  This is separate from the ipykernel package so we can avoid doing imports until\n"
     ]
    },
    {
     "name": "stdout",
     "output_type": "stream",
     "text": [
      "accracy:  0.7546\n",
      "precision:  0.7533658536585366\n",
      "recal:  0.7644030884973273\n",
      "f1_score:  0.7588443396226416\n",
      "AUC:  0.7544989780736788\n"
     ]
    }
   ],
   "source": [
    "clf_forest = RandomForestClassifier(n_estimators=100, oob_score=False, max_depth=20)\n",
    "clf_forest.set_params(max_features=10)\n",
    "clf_forest= clf_forest.fit(X_glove_train, y_train)\n",
    "clf_forest_pred = clf_forest.predict(X_glove_test)\n",
    "print_metrics(clf_forest_pred, y_test)"
   ]
  },
  {
   "cell_type": "markdown",
   "metadata": {
    "colab_type": "text",
    "id": "k0CcaDFAhpxS"
   },
   "source": [
    "#### Naive Bayes"
   ]
  },
  {
   "cell_type": "code",
   "execution_count": 0,
   "metadata": {
    "ExecuteTime": {
     "end_time": "2019-12-11T23:03:02.957820Z",
     "start_time": "2019-12-11T23:03:02.864838Z"
    },
    "colab": {},
    "colab_type": "code",
    "id": "gEq4DUYYhpxT",
    "outputId": "2c125a45-39d8-4b60-9031-bd54c84d40cd"
   },
   "outputs": [
    {
     "name": "stdout",
     "output_type": "stream",
     "text": [
      "accracy:  0.6952\n",
      "precision:  0.7017932701994761\n",
      "recal:  0.689566422490596\n",
      "f1_score:  0.695626123427202\n",
      "AUC:  0.6952580546480056\n"
     ]
    },
    {
     "name": "stderr",
     "output_type": "stream",
     "text": [
      "/Users/qianqu/anaconda3/lib/python3.6/site-packages/sklearn/utils/validation.py:761: DataConversionWarning: A column-vector y was passed when a 1d array was expected. Please change the shape of y to (n_samples, ), for example using ravel().\n",
      "  y = column_or_1d(y, warn=True)\n"
     ]
    }
   ],
   "source": [
    "def scale(X, x_min, x_max):\n",
    "    nom = (X-X.min(axis=0))*(x_max-x_min)\n",
    "    denom = X.max(axis=0) - X.min(axis=0)\n",
    "    denom[denom==0] = 1\n",
    "    return x_min + nom/denom \n",
    "\n",
    "X_norm_glove_train = scale(X_glove_train, 0, 1)\n",
    "X_norm_glove_test = scale(X_glove_test, 0, 1)\n",
    "clf_NB = MultinomialNB()\n",
    "clf_NB.fit(X_norm_glove_train,y_train)\n",
    "clf_NB_pred = clf_NB.predict(X_norm_glove_test)\n",
    "print_metrics(clf_NB_pred, y_test)"
   ]
  },
  {
   "cell_type": "markdown",
   "metadata": {
    "colab_type": "text",
    "id": "4FiT1gumhpxU"
   },
   "source": [
    "#### KNN"
   ]
  },
  {
   "cell_type": "code",
   "execution_count": 0,
   "metadata": {
    "ExecuteTime": {
     "end_time": "2019-12-11T23:03:59.106260Z",
     "start_time": "2019-12-11T23:03:11.550493Z"
    },
    "colab": {},
    "colab_type": "code",
    "id": "M4xay26bhpxU",
    "outputId": "d1c339ac-40dc-42a7-bfa4-82a2d85f1a4a"
   },
   "outputs": [
    {
     "name": "stderr",
     "output_type": "stream",
     "text": [
      "/Users/qianqu/anaconda3/lib/python3.6/site-packages/ipykernel_launcher.py:2: DataConversionWarning: A column-vector y was passed when a 1d array was expected. Please change the shape of y to (n_samples, ), for example using ravel().\n",
      "  \n"
     ]
    },
    {
     "name": "stdout",
     "output_type": "stream",
     "text": [
      "accracy:  0.7275\n",
      "precision:  0.7762470308788598\n",
      "recal:  0.6470005939417937\n",
      "f1_score:  0.705755318000216\n",
      "AUC:  0.7283295554069446\n"
     ]
    }
   ],
   "source": [
    "neigh = KNeighborsClassifier(n_neighbors=20)\n",
    "neigh.fit(X_glove_train,y_train)\n",
    "neigh_pred = neigh.predict(X_glove_test)\n",
    "print_metrics(neigh_pred, y_test)"
   ]
  },
  {
   "cell_type": "markdown",
   "metadata": {
    "colab_type": "text",
    "id": "Kevt-1RohpxV"
   },
   "source": [
    "### TF-IDF embedding"
   ]
  },
  {
   "cell_type": "code",
   "execution_count": 0,
   "metadata": {
    "ExecuteTime": {
     "end_time": "2019-12-12T03:47:21.210744Z",
     "start_time": "2019-12-12T03:46:05.651236Z"
    },
    "colab": {},
    "colab_type": "code",
    "id": "5N20k4lMhpxW",
    "outputId": "5f0708e9-51af-4aa1-b826-d5e6d7ec5b95"
   },
   "outputs": [
    {
     "name": "stdout",
     "output_type": "stream",
     "text": [
      "GloVe_train: (40000, 50)\n",
      "GloVe_test: (10000, 50)\n"
     ]
    }
   ],
   "source": [
    "tfidfEmbeddingV2 = TfidfEmbeddingVectorizer(embedding_glove_weights)\n",
    "tfidfEmbeddingV2.fit(X_train_tokens)\n",
    "X_glovetfidf_train = tfidfEmbeddingV2.transform(X_train_tokens)\n",
    "#transformed test reviews\n",
    "X_glovetfidf_test = tfidfEmbeddingV2.transform(X_test_tokens)\n",
    "print('GloVe_train:',X_glovetfidf_train.shape)\n",
    "print('GloVe_test:',X_glovetfidf_test.shape)"
   ]
  },
  {
   "cell_type": "code",
   "execution_count": 0,
   "metadata": {
    "ExecuteTime": {
     "end_time": "2019-12-11T23:49:03.300180Z",
     "start_time": "2019-12-11T23:49:03.295004Z"
    },
    "colab": {},
    "colab_type": "code",
    "id": "NLHukbC6hpxY",
    "outputId": "37c8a8f5-5797-430c-90cd-daf9b1f1b7c0"
   },
   "outputs": [
    {
     "data": {
      "text/plain": [
       "array([ 8.13616353e-01,  3.88843106e-01, -4.96669032e-01, -9.55953053e-01,\n",
       "        1.08482739e+00,  7.33394012e-01, -1.12159944e+00, -4.24363820e-02,\n",
       "       -5.40171851e-01,  8.42743205e-01, -6.54884183e-01,  8.07430622e-01,\n",
       "       -1.15500011e+00,  3.85438783e-01,  1.86212823e+00,  2.00141562e-01,\n",
       "        4.63684976e-01,  3.28493046e-01, -7.51918312e-01, -8.28702125e-01,\n",
       "       -2.24578707e-01,  1.41422466e+00,  7.93172650e-01,  3.65892896e-01,\n",
       "        1.29659791e+00, -4.24772438e+00, -1.89035775e+00,  7.36643579e-01,\n",
       "        1.21793264e+00, -8.91632101e-01,  7.77610002e+00,  1.88582668e-01,\n",
       "        2.37628561e-01, -1.26936524e+00,  1.86933197e-02,  4.06808087e-01,\n",
       "       -3.01922154e-02,  2.81539786e-01, -5.44221203e-01, -1.22037142e+00,\n",
       "       -6.96570664e-01,  7.02633168e-01, -2.99458009e-01,  3.95633372e-01,\n",
       "       -1.71316976e-01, -1.74422504e-01, -7.34317316e-03, -5.90580390e-01,\n",
       "       -4.41773230e-01,  7.68317974e-01])"
      ]
     },
     "execution_count": 227,
     "metadata": {
      "tags": []
     },
     "output_type": "execute_result"
    }
   ],
   "source": [
    "X_glovetfidf_train[0]"
   ]
  },
  {
   "cell_type": "markdown",
   "metadata": {
    "colab_type": "text",
    "id": "-1uGb2Iyhpxb"
   },
   "source": [
    "#### Logistical Regression"
   ]
  },
  {
   "cell_type": "code",
   "execution_count": 0,
   "metadata": {
    "ExecuteTime": {
     "end_time": "2019-12-11T23:50:48.101111Z",
     "start_time": "2019-12-11T23:50:47.261509Z"
    },
    "colab": {},
    "colab_type": "code",
    "id": "lC27UgWYhpxb",
    "outputId": "14b8efd1-32ea-465c-ea39-9b44734251b5"
   },
   "outputs": [
    {
     "name": "stderr",
     "output_type": "stream",
     "text": [
      "/Users/qianqu/anaconda3/lib/python3.6/site-packages/sklearn/linear_model/logistic.py:433: FutureWarning: Default solver will be changed to 'lbfgs' in 0.22. Specify a solver to silence this warning.\n",
      "  FutureWarning)\n",
      "/Users/qianqu/anaconda3/lib/python3.6/site-packages/sklearn/utils/validation.py:761: DataConversionWarning: A column-vector y was passed when a 1d array was expected. Please change the shape of y to (n_samples, ), for example using ravel().\n",
      "  y = column_or_1d(y, warn=True)\n"
     ]
    },
    {
     "name": "stdout",
     "output_type": "stream",
     "text": [
      "accracy:  0.7352\n",
      "precision:  0.7443563148261135\n",
      "recal:  0.7246089883191448\n",
      "f1_score:  0.7343499197431782\n",
      "AUC:  0.7353091415630881\n"
     ]
    }
   ],
   "source": [
    "lr = LogisticRegression()\n",
    "lr.fit(X_glovetfidf_train, y_train)\n",
    "lr_pred = lr.predict(X_glovetfidf_test)\n",
    "\n",
    "print_metrics(lr_pred, y_test)"
   ]
  },
  {
   "cell_type": "markdown",
   "metadata": {
    "colab_type": "text",
    "id": "jHtUynqphpxe"
   },
   "source": [
    "#### Random Forest"
   ]
  },
  {
   "cell_type": "code",
   "execution_count": 0,
   "metadata": {
    "ExecuteTime": {
     "end_time": "2019-12-11T23:52:09.259420Z",
     "start_time": "2019-12-11T23:51:34.556375Z"
    },
    "colab": {},
    "colab_type": "code",
    "id": "5HhxtcxGhpxe",
    "outputId": "fa63c1e5-5717-4e1a-f0d2-b385af96fd73"
   },
   "outputs": [
    {
     "name": "stderr",
     "output_type": "stream",
     "text": [
      "/Users/qianqu/anaconda3/lib/python3.6/site-packages/ipykernel_launcher.py:3: DataConversionWarning: A column-vector y was passed when a 1d array was expected. Please change the shape of y to (n_samples,), for example using ravel().\n",
      "  This is separate from the ipykernel package so we can avoid doing imports until\n"
     ]
    },
    {
     "name": "stdout",
     "output_type": "stream",
     "text": [
      "accracy:  0.731\n",
      "precision:  0.7283807312826466\n",
      "recal:  0.7453969510987923\n",
      "f1_score:  0.7367906066536203\n",
      "AUC:  0.7308516378043972\n"
     ]
    }
   ],
   "source": [
    "clf_forest = RandomForestClassifier(n_estimators=100, oob_score=False, max_depth=20)\n",
    "clf_forest.set_params(max_features=10)\n",
    "clf_forest= clf_forest.fit(X_glovetfidf_train, y_train)\n",
    "clf_forest_pred = clf_forest.predict(X_glovetfidf_test)\n",
    "print_metrics(clf_forest_pred, y_test)"
   ]
  },
  {
   "cell_type": "markdown",
   "metadata": {
    "colab_type": "text",
    "id": "pz8CCQKxhpxg"
   },
   "source": [
    "#### Naive Bayes"
   ]
  },
  {
   "cell_type": "code",
   "execution_count": 0,
   "metadata": {
    "ExecuteTime": {
     "end_time": "2019-12-11T23:52:32.703737Z",
     "start_time": "2019-12-11T23:52:32.622484Z"
    },
    "colab": {},
    "colab_type": "code",
    "id": "-nz9uG-Vhpxg",
    "outputId": "71e44b59-4775-4da0-82ef-38ed432ba8d6"
   },
   "outputs": [
    {
     "name": "stdout",
     "output_type": "stream",
     "text": [
      "accracy:  0.7064\n",
      "precision:  0.688805570433851\n",
      "recal:  0.7638091467036231\n",
      "f1_score:  0.7243710101389411\n",
      "AUC:  0.7058083923051355\n"
     ]
    },
    {
     "name": "stderr",
     "output_type": "stream",
     "text": [
      "/Users/qianqu/anaconda3/lib/python3.6/site-packages/sklearn/utils/validation.py:761: DataConversionWarning: A column-vector y was passed when a 1d array was expected. Please change the shape of y to (n_samples, ), for example using ravel().\n",
      "  y = column_or_1d(y, warn=True)\n"
     ]
    }
   ],
   "source": [
    "def scale(X, x_min, x_max):\n",
    "    nom = (X-X.min(axis=0))*(x_max-x_min)\n",
    "    denom = X.max(axis=0) - X.min(axis=0)\n",
    "    denom[denom==0] = 1\n",
    "    return x_min + nom/denom \n",
    "\n",
    "X_norm_glovetfidf_train = scale(X_glovetfidf_train, 0, 1)\n",
    "X_norm_glovetfidf_test = scale(X_glovetfidf_test, 0, 1)\n",
    "clf_NB = MultinomialNB()\n",
    "clf_NB.fit(X_norm_glovetfidf_train, y_train)\n",
    "clf_NB_pred = clf_NB.predict(X_norm_glovetfidf_test)\n",
    "print_metrics(clf_NB_pred, y_test)"
   ]
  },
  {
   "cell_type": "markdown",
   "metadata": {
    "colab_type": "text",
    "id": "5z7rJuT9hpxi"
   },
   "source": [
    "#### KNN"
   ]
  },
  {
   "cell_type": "code",
   "execution_count": 0,
   "metadata": {
    "ExecuteTime": {
     "end_time": "2019-12-11T23:54:53.915338Z",
     "start_time": "2019-12-11T23:53:57.697996Z"
    },
    "colab": {},
    "colab_type": "code",
    "id": "cuBVFyVrhpxi",
    "outputId": "ef84b125-eb8a-4e62-c202-3631e1d3e055"
   },
   "outputs": [
    {
     "name": "stderr",
     "output_type": "stream",
     "text": [
      "/Users/qianqu/anaconda3/lib/python3.6/site-packages/ipykernel_launcher.py:2: DataConversionWarning: A column-vector y was passed when a 1d array was expected. Please change the shape of y to (n_samples, ), for example using ravel().\n",
      "  \n"
     ]
    },
    {
     "name": "stdout",
     "output_type": "stream",
     "text": [
      "accracy:  0.7258\n",
      "precision:  0.7736430433752074\n",
      "recal:  0.6462086715501881\n",
      "f1_score:  0.7042071197411003\n",
      "AUC:  0.7266201975653547\n"
     ]
    }
   ],
   "source": [
    "neigh = KNeighborsClassifier(n_neighbors=20)\n",
    "neigh.fit(X_glovetfidf_train,y_train)\n",
    "neigh_pred = neigh.predict(X_glovetfidf_test)\n",
    "print_metrics(neigh_pred, y_test)"
   ]
  },
  {
   "cell_type": "markdown",
   "metadata": {
    "colab_type": "text",
    "id": "4NzCAuSGhpxj"
   },
   "source": [
    "## LSTM"
   ]
  },
  {
   "cell_type": "code",
   "execution_count": 0,
   "metadata": {
    "ExecuteTime": {
     "end_time": "2019-12-11T04:04:28.548665Z",
     "start_time": "2019-12-11T04:04:28.543079Z"
    },
    "colab": {},
    "colab_type": "code",
    "id": "qIiNE73Ihpxj"
   },
   "outputs": [],
   "source": [
    "from keras.layers.embeddings import Embedding\n",
    "from keras.models import Sequential\n",
    "from keras.layers.core import Activation, Dropout, Dense\n",
    "from keras.layers import Flatten\n",
    "from keras.layers import GlobalMaxPooling1D,Conv1D,LSTM\n",
    "from tensorflow.python.keras.preprocessing.text import Tokenizer\n",
    "from tensorflow.python.keras.preprocessing.sequence import pad_sequences"
   ]
  },
  {
   "cell_type": "markdown",
   "metadata": {
    "colab_type": "text",
    "id": "yZTSksS4hpxk"
   },
   "source": [
    "with LSTM, we can use end to end, which means word embedding inherently appears in the first layer."
   ]
  },
  {
   "cell_type": "markdown",
   "metadata": {
    "colab_type": "text",
    "id": "EhxRiEyChpxk"
   },
   "source": [
    "### tokenize"
   ]
  },
  {
   "cell_type": "code",
   "execution_count": 0,
   "metadata": {
    "ExecuteTime": {
     "end_time": "2019-12-11T05:15:15.388525Z",
     "start_time": "2019-12-11T05:15:01.408619Z"
    },
    "colab": {},
    "colab_type": "code",
    "id": "AM4NZAlAhpxl",
    "outputId": "92d3ecdd-78b8-4bd4-e118-c3d0b42674ed"
   },
   "outputs": [
    {
     "name": "stdout",
     "output_type": "stream",
     "text": [
      "max_len:100,vocab_size:124411\n"
     ]
    }
   ],
   "source": [
    "\n",
    "tokenizer = Tokenizer()\n",
    "total_reviews = imdb_data['cleaned_review']\n",
    "tokenizer.fit_on_texts(total_reviews)\n",
    "#max_length = max([len(review.split()) for review in total_reviews])\n",
    "max_length = 100\n",
    "X_train_tokens = tokenizer.texts_to_sequences(X_org_train)\n",
    "X_test_tokens = tokenizer.texts_to_sequences(X_org_test)\n",
    "vocab_size = len(tokenizer.word_index) + 1\n",
    "X_train_pad = pad_sequences(X_train_tokens,maxlen=max_length,padding=\"post\")\n",
    "X_test_pad = pad_sequences(X_test_tokens,maxlen=max_length,padding=\"post\")\n",
    "print(\"max_len:%d,vocab_size:%d\"%(max_length,vocab_size))"
   ]
  },
  {
   "cell_type": "code",
   "execution_count": 0,
   "metadata": {
    "ExecuteTime": {
     "end_time": "2019-12-11T05:15:17.412105Z",
     "start_time": "2019-12-11T05:15:17.398291Z"
    },
    "colab": {},
    "colab_type": "code",
    "id": "EDF1SPQrhpxm",
    "outputId": "1e89b77b-4bcc-46bc-f725-9aaf86c56d48"
   },
   "outputs": [
    {
     "data": {
      "text/plain": [
       "(40000, 100)"
      ]
     },
     "execution_count": 108,
     "metadata": {
      "tags": []
     },
     "output_type": "execute_result"
    }
   ],
   "source": [
    "X_train_pad.shape"
   ]
  },
  {
   "cell_type": "code",
   "execution_count": 0,
   "metadata": {
    "ExecuteTime": {
     "end_time": "2019-12-11T05:15:18.640350Z",
     "start_time": "2019-12-11T05:15:18.635625Z"
    },
    "colab": {},
    "colab_type": "code",
    "id": "uW77NL6Ahpxn",
    "outputId": "0b1e17ee-a7fd-47f0-c42a-a715f23b8fce"
   },
   "outputs": [
    {
     "data": {
      "text/plain": [
       "array([  469,   213,     7,  3546,   158,    41,  4000,  4208, 14384,\n",
       "         103, 24831, 55294,  6141,  3806,    11,  7114, 10849,    58,\n",
       "        5067,  2044,   300, 12921, 12922,   228,   906,  2219,   360,\n",
       "         403,  1043,   134,    25,   192,  4782,  3261,   134,   350,\n",
       "        8756,  1207,     2,  1639,  5859,   231,    76,   185,  3025,\n",
       "         328,   154,   836, 16461,   403,  4394,   102,     4,     1,\n",
       "         319,   200,    95,  1217,     4,     5,   198,   184,     9,\n",
       "           2,   400,   105, 53067,   629,  3028,     4,    19,   281,\n",
       "          17,  1310,    76,     4,   838,    76,   340,     3,   417,\n",
       "          11,  8889,   143,   175,   451,     8,     1,  1204,     1,\n",
       "         146,   131,     6, 11281, 51776,   105,  1525,   132, 18607,\n",
       "         391], dtype=int32)"
      ]
     },
     "execution_count": 109,
     "metadata": {
      "tags": []
     },
     "output_type": "execute_result"
    }
   ],
   "source": [
    "X_train_pad[0]\n"
   ]
  },
  {
   "cell_type": "markdown",
   "metadata": {
    "colab_type": "text",
    "id": "hENQjyCthpxp"
   },
   "source": [
    "### embeddings"
   ]
  },
  {
   "cell_type": "code",
   "execution_count": 0,
   "metadata": {
    "ExecuteTime": {
     "end_time": "2019-12-11T05:25:46.894339Z",
     "start_time": "2019-12-11T05:25:12.198370Z"
    },
    "colab": {},
    "colab_type": "code",
    "id": "ZQRDIzBGhpxq"
   },
   "outputs": [],
   "source": [
    "#import gensim\n",
    "#EMBED_DIM = 100\n",
    "#w2v_model = gensim.models.Word2Vec(sentences=imdb_data['cleaned_review'],size=EMBED_DIM,window=5,workers=4,min_count=1)\n"
   ]
  },
  {
   "cell_type": "code",
   "execution_count": 0,
   "metadata": {
    "ExecuteTime": {
     "end_time": "2019-12-11T05:25:48.199386Z",
     "start_time": "2019-12-11T05:25:48.078418Z"
    },
    "colab": {},
    "colab_type": "code",
    "id": "rQjqk3EYhpxr"
   },
   "outputs": [],
   "source": [
    "# embedding_weights = np.zeros((vocab_size, EMBED_DIM))\n",
    "# for word, index in tokenizer.word_index.items():\n",
    "#     #embedding_vector = word2vec.get(word)\n",
    "#     try:\n",
    "#         embedding_weights[index] = w2v_model.wv.get_vector(word)\n",
    "#     except:\n",
    "#         pass "
   ]
  },
  {
   "cell_type": "markdown",
   "metadata": {
    "colab_type": "text",
    "id": "qgYdS3aUhpxs"
   },
   "source": [
    "### LSTM model"
   ]
  },
  {
   "cell_type": "code",
   "execution_count": 0,
   "metadata": {
    "ExecuteTime": {
     "end_time": "2019-12-11T16:07:04.253963Z",
     "start_time": "2019-12-11T16:07:03.232595Z"
    },
    "colab": {},
    "colab_type": "code",
    "id": "lSzePjHhhpxs"
   },
   "outputs": [],
   "source": [
    "#max_features = 20000\n",
    "model = Sequential()\n",
    "#embedding_layer = Embedding(vocab_size, EMBED_DIM, weights=[embedding_weights], input_length=max_length , trainable=False)\n",
    "model.add(Embedding(vocab_size, 128))\n",
    "#model.add(embedding_layer)\n",
    "model.add(LSTM(128, dropout=0.2, recurrent_dropout=0.2))\n",
    "model.add(Dense(32, activation='sigmoid'))\n",
    "model.add(Dense(1, activation='sigmoid'))\n",
    "model.compile(optimizer='adam', loss='binary_crossentropy', metrics=['acc'])"
   ]
  },
  {
   "cell_type": "code",
   "execution_count": 0,
   "metadata": {
    "ExecuteTime": {
     "end_time": "2019-12-11T16:07:05.318611Z",
     "start_time": "2019-12-11T16:07:05.313016Z"
    },
    "colab": {},
    "colab_type": "code",
    "id": "lY5-kipLhpxt",
    "outputId": "8eb5ca05-316f-476a-c397-8834524c557d"
   },
   "outputs": [
    {
     "name": "stdout",
     "output_type": "stream",
     "text": [
      "_________________________________________________________________\n",
      "Layer (type)                 Output Shape              Param #   \n",
      "=================================================================\n",
      "embedding_10 (Embedding)     (None, None, 128)         15924608  \n",
      "_________________________________________________________________\n",
      "lstm_9 (LSTM)                (None, 128)               131584    \n",
      "_________________________________________________________________\n",
      "dense_9 (Dense)              (None, 32)                4128      \n",
      "_________________________________________________________________\n",
      "dense_10 (Dense)             (None, 1)                 33        \n",
      "=================================================================\n",
      "Total params: 16,060,353\n",
      "Trainable params: 16,060,353\n",
      "Non-trainable params: 0\n",
      "_________________________________________________________________\n"
     ]
    }
   ],
   "source": [
    "model.summary()"
   ]
  },
  {
   "cell_type": "markdown",
   "metadata": {
    "colab_type": "text",
    "id": "tY5kDxYHhpxu"
   },
   "source": [
    "**!!!the following cell will takes 10 min time on laptop!!!**"
   ]
  },
  {
   "cell_type": "code",
   "execution_count": 0,
   "metadata": {
    "ExecuteTime": {
     "end_time": "2019-12-11T16:34:26.367992Z",
     "start_time": "2019-12-11T16:07:13.378139Z"
    },
    "colab": {},
    "colab_type": "code",
    "id": "R3R_A8ughpxu",
    "outputId": "fd2f3d04-da14-4bfe-bca5-1e77eb7e78af"
   },
   "outputs": [
    {
     "name": "stdout",
     "output_type": "stream",
     "text": [
      "Train on 32000 samples, validate on 8000 samples\n",
      "Epoch 1/6\n",
      "32000/32000 [==============================] - 273s 9ms/step - loss: 0.4916 - acc: 0.7753 - val_loss: 0.3464 - val_acc: 0.8689\n",
      "Epoch 2/6\n",
      "32000/32000 [==============================] - 258s 8ms/step - loss: 0.2877 - acc: 0.8907 - val_loss: 0.3302 - val_acc: 0.8718\n",
      "Epoch 3/6\n",
      "32000/32000 [==============================] - 270s 8ms/step - loss: 0.1761 - acc: 0.9397 - val_loss: 0.3410 - val_acc: 0.8625\n",
      "Epoch 4/6\n",
      "32000/32000 [==============================] - 265s 8ms/step - loss: 0.1253 - acc: 0.9571 - val_loss: 0.3405 - val_acc: 0.8726\n",
      "Epoch 5/6\n",
      "32000/32000 [==============================] - 280s 9ms/step - loss: 0.0846 - acc: 0.9730 - val_loss: 0.3985 - val_acc: 0.8701\n",
      "Epoch 6/6\n",
      "32000/32000 [==============================] - 286s 9ms/step - loss: 0.0567 - acc: 0.9824 - val_loss: 0.4815 - val_acc: 0.8741\n"
     ]
    }
   ],
   "source": [
    "history =  model.fit(X_train_pad, y_train,  batch_size=32, epochs=6, validation_split=0.2,verbose=1)"
   ]
  },
  {
   "cell_type": "code",
   "execution_count": 0,
   "metadata": {
    "ExecuteTime": {
     "end_time": "2019-12-11T16:03:16.080411Z",
     "start_time": "2019-12-11T16:03:16.066309Z"
    },
    "colab": {},
    "colab_type": "code",
    "id": "vHx2yAlhhpxv"
   },
   "outputs": [],
   "source": [
    "def plot_lstm(history):\n",
    "    plt.plot(history.history['acc'])\n",
    "    plt.plot(history.history['val_acc'])\n",
    "\n",
    "    plt.title('model accuracy')\n",
    "    plt.ylabel('accuracy')\n",
    "    plt.xlabel('epoch')\n",
    "    plt.legend(['train','test'], loc='upper left')\n",
    "    plt.show()\n",
    "\n",
    "    plt.plot(history.history['loss'])\n",
    "    plt.plot(history.history['val_loss'])\n",
    "\n",
    "    plt.title('model loss')\n",
    "    plt.ylabel('loss')\n",
    "    plt.xlabel('epoch')\n",
    "    plt.legend(['train','test'], loc='upper left')\n",
    "    plt.show()"
   ]
  },
  {
   "cell_type": "code",
   "execution_count": 0,
   "metadata": {
    "ExecuteTime": {
     "end_time": "2019-12-11T16:03:17.750712Z",
     "start_time": "2019-12-11T16:03:17.145709Z"
    },
    "colab": {},
    "colab_type": "code",
    "id": "JPmImGPVhpxw",
    "outputId": "caa12f28-694e-4bbd-9a59-0936fd10ff7a"
   },
   "outputs": [
    {
     "data": {
      "image/png": "[encoded data removed]",
      "text/plain": [
       "<Figure size 432x288 with 1 Axes>"
      ]
     },
     "metadata": {
      "needs_background": "light",
      "tags": []
     },
     "output_type": "display_data"
    },
    {
     "data": {
      "image/png": "[encoded data removed]",
      "text/plain": [
       "<Figure size 432x288 with 1 Axes>"
      ]
     },
     "metadata": {
      "needs_background": "light",
      "tags": []
     },
     "output_type": "display_data"
    }
   ],
   "source": [
    "plot_lstm(history)"
   ]
  },
  {
   "cell_type": "markdown",
   "metadata": {
    "colab_type": "text",
    "id": "oNrTZknMhpxy"
   },
   "source": [
    "### test lstm"
   ]
  },
  {
   "cell_type": "code",
   "execution_count": 0,
   "metadata": {
    "ExecuteTime": {
     "end_time": "2019-12-11T16:04:39.582881Z",
     "start_time": "2019-12-11T16:04:34.647636Z"
    },
    "colab": {},
    "colab_type": "code",
    "id": "kuTAUtUjhpxy",
    "outputId": "9ffac02c-857f-4573-d4ef-d639eb38110c"
   },
   "outputs": [
    {
     "name": "stdout",
     "output_type": "stream",
     "text": [
      "10000/10000 [==============================] - 5s 493us/step\n",
      "Test Score: 0.5501279873669147\n",
      "Test Accuracy: 0.8568\n"
     ]
    }
   ],
   "source": [
    "score = model.evaluate(X_test_pad, y_test, verbose=1)\n",
    "print(\"Test Score:\", score[0])\n",
    "print(\"Test Accuracy:\", score[1])"
   ]
  },
  {
   "cell_type": "code",
   "execution_count": 0,
   "metadata": {
    "colab": {},
    "colab_type": "code",
    "id": "R8p57lvphpx0"
   },
   "outputs": [],
   "source": []
  }
 ],
 "metadata": {
  "colab": {
   "collapsed_sections": [],
   "name": "Project3final.ipynb",
   "provenance": []
  },
  "hide_input": false,
  "kernelspec": {
   "display_name": "Python 3",
   "language": "python",
   "name": "python3"
  },
  "language_info": {
   "codemirror_mode": {
    "name": "ipython",
    "version": 3
   },
   "file_extension": ".py",
   "mimetype": "text/x-python",
   "name": "python",
   "nbconvert_exporter": "python",
   "pygments_lexer": "ipython3",
   "version": "3.5.2"
  },
  "toc": {
   "base_numbering": 1,
   "nav_menu": {},
   "number_sections": true,
   "sideBar": true,
   "skip_h1_title": false,
   "title_cell": "Table of Contents",
   "title_sidebar": "Contents",
   "toc_cell": false,
   "toc_position": {
    "height": "calc(100% - 180px)",
    "left": "10px",
    "top": "150px",
    "width": "264.59375px"
   },
   "toc_section_display": true,
   "toc_window_display": true
  },
  "varInspector": {
   "cols": {
    "lenName": 16,
    "lenType": 16,
    "lenVar": 40
   },
   "kernels_config": {
    "python": {
     "delete_cmd_postfix": "",
     "delete_cmd_prefix": "del ",
     "library": "var_list.py",
     "varRefreshCmd": "print(var_dic_list())"
    },
    "r": {
     "delete_cmd_postfix": ") ",
     "delete_cmd_prefix": "rm(",
     "library": "var_list.r",
     "varRefreshCmd": "cat(var_dic_list()) "
    }
   },
   "types_to_exclude": [
    "module",
    "function",
    "builtin_function_or_method",
    "instance",
    "_Feature"
   ],
   "window_display": false
  }
 },
 "nbformat": 4,
 "nbformat_minor": 1
}
